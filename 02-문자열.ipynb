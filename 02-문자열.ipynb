{
 "cells": [
  {
   "cell_type": "markdown",
   "id": "955758e8-6530-4093-9b15-6e75c7a29f07",
   "metadata": {},
   "source": [
    "# 문자열(string) : 불변형(immutable), 시퀀스형\n",
    "- 문자열은 요소를 수정할수 없는 자료형, 순서를 갖는 자료형"
   ]
  },
  {
   "cell_type": "code",
   "execution_count": 1,
   "id": "78ea28da-62c2-472c-92d8-21173b5ec465",
   "metadata": {},
   "outputs": [
    {
     "name": "stdout",
     "output_type": "stream",
     "text": [
      "Hello, Python\n"
     ]
    }
   ],
   "source": [
    "a = \"Hello, Python\"\n",
    "print(a)"
   ]
  },
  {
   "cell_type": "code",
   "execution_count": 5,
   "id": "f62ed784-aedb-438e-a7a2-c8a37dcf1acc",
   "metadata": {
    "scrolled": true
   },
   "outputs": [
    {
     "name": "stdout",
     "output_type": "stream",
     "text": [
      "ㄴ\n",
      "ㅅ\n",
      "ㄴ\n",
      "ㄱ\n",
      "7\n"
     ]
    }
   ],
   "source": [
    "a = \"ㄱㄴㄷㄹㅁㅂㅅ\"\n",
    "\n",
    "print(a[1])\n",
    "print(a[-1])\n",
    "print(a[True])\n",
    "print(a[False])\n",
    "print(len(a))"
   ]
  },
  {
   "cell_type": "markdown",
   "id": "54e18b44-c53b-4d1b-adb9-594d6b80b70c",
   "metadata": {},
   "source": [
    "sliciing : a[start:end + 1:step], start <= data < end +1"
   ]
  },
  {
   "cell_type": "code",
   "execution_count": 6,
   "id": "8e93685a-cac1-49e8-a9a6-2b57d0f985a6",
   "metadata": {},
   "outputs": [
    {
     "name": "stdout",
     "output_type": "stream",
     "text": [
      "4\n"
     ]
    }
   ],
   "source": [
    "a = True + 3\n",
    "print(a)"
   ]
  },
  {
   "cell_type": "code",
   "execution_count": null,
   "id": "e2eafd0a-844d-412d-8429-4110024f8c70",
   "metadata": {},
   "outputs": [],
   "source": []
  }
 ],
 "metadata": {
  "kernelspec": {
   "display_name": "Python 3 (ipykernel)",
   "language": "python",
   "name": "python3"
  },
  "language_info": {
   "codemirror_mode": {
    "name": "ipython",
    "version": 3
   },
   "file_extension": ".py",
   "mimetype": "text/x-python",
   "name": "python",
   "nbconvert_exporter": "python",
   "pygments_lexer": "ipython3",
   "version": "3.11.7"
  }
 },
 "nbformat": 4,
 "nbformat_minor": 5
}
