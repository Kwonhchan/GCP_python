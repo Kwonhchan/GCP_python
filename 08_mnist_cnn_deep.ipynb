{
 "cells": [
  {
   "cell_type": "code",
   "execution_count": 1,
   "id": "d6fd546c-2124-45e1-8f3e-be57aeb5585e",
   "metadata": {},
   "outputs": [],
   "source": [
    "# mnist_cnn_deep\n",
    "# MNIST and Convolutional Neural Network\n",
    "# L1,L2 : conv2d + relu + max_pool \n",
    "# L3 : FC(Fully Connected Layer)"
   ]
  },
  {
   "cell_type": "code",
   "execution_count": 2,
   "id": "5f541c33-1bbb-468d-b6a0-2cf7cbd6c84a",
   "metadata": {},
   "outputs": [],
   "source": [
    "import tensorflow as tf\n",
    "import numpy as np\n",
    "import matplotlib.pyplot as plt\n",
    "tf.random.set_seed(5)"
   ]
  },
  {
   "cell_type": "code",
   "execution_count": 5,
   "id": "748207b0-2a0c-49c7-a964-243c051dfe03",
   "metadata": {},
   "outputs": [
    {
     "name": "stdout",
     "output_type": "stream",
     "text": [
      "(60000, 28, 28)\n",
      "(60000,)\n",
      "(10000, 28, 28)\n",
      "(10000,)\n"
     ]
    }
   ],
   "source": [
    "# mnist 데이터 가져오기\n",
    "mnist = tf.keras.datasets.mnist\n",
    "(x_train,y_train),(x_test,y_test) = mnist.load_data()\n",
    "print(x_train.shape)\n",
    "print(y_train.shape)\n",
    "print(x_test.shape)\n",
    "print(y_test.shape)"
   ]
  },
  {
   "cell_type": "code",
   "execution_count": 6,
   "id": "699d3006-07e3-4c99-b9ad-08bf25e54552",
   "metadata": {},
   "outputs": [
    {
     "data": {
      "text/plain": [
       "TensorShape([60000, 10])"
      ]
     },
     "execution_count": 6,
     "metadata": {},
     "output_type": "execute_result"
    }
   ],
   "source": [
    "# one-hot 인코딩\n",
    "nb_classes = 10 # 분류 class의 개수\n",
    "\n",
    "Y_one_hot = tf.one_hot(y_train, nb_classes) # (60000,)\n",
    "Y_one_hot.shape                             # (60000,10)"
   ]
  },
  {
   "cell_type": "code",
   "execution_count": 8,
   "id": "9e7abeaf-1b8f-4ea1-8dfc-87215fbf7144",
   "metadata": {},
   "outputs": [
    {
     "data": {
      "text/plain": [
       "dtype('uint8')"
      ]
     },
     "execution_count": 8,
     "metadata": {},
     "output_type": "execute_result"
    }
   ],
   "source": [
    "x_train[0].dtype"
   ]
  },
  {
   "cell_type": "code",
   "execution_count": 20,
   "id": "b41e1819-9c8b-4114-83d8-7e38e77d3d91",
   "metadata": {},
   "outputs": [
    {
     "name": "stdout",
     "output_type": "stream",
     "text": [
      "(60000, 28, 28)\n"
     ]
    }
   ],
   "source": [
    "# x를 실수형으로 변환\n",
    "x_train = tf.cast(x_train,dtype=tf.float32)\n",
    "x_test = tf.cast(x_test,dtype=tf.float32)\n",
    "print(x_train.shape)"
   ]
  },
  {
   "cell_type": "code",
   "execution_count": 21,
   "id": "a34e9bdc-3332-4d56-a814-f573d9938e92",
   "metadata": {},
   "outputs": [
    {
     "name": "stdout",
     "output_type": "stream",
     "text": [
      "(60000, 28, 28, 1)\n"
     ]
    }
   ],
   "source": [
    "# x의 shape을 4차원으로 변환\n",
    "x_img = tf.reshape(x_train,[-1,28,28,1])\n",
    "print(x_img.shape)"
   ]
  },
  {
   "cell_type": "code",
   "execution_count": 53,
   "id": "55b715d9-4c19-4aef-9dee-29653850c382",
   "metadata": {},
   "outputs": [],
   "source": [
    "# Layer 1 : conv2d - relu - max_pool\n",
    "# (?, 28, 28, 1) --> (?, 14, 14, 32)\n",
    "\n",
    "# <1> conv2d\n",
    "# L1 input image shape : (?, 28, 28, 1)\n",
    "# filter : (3,3,1,32), 필터 32개\n",
    "# strides : (1,1,1,1), padding='SAME'\n",
    "# 출력 이미지 : (28+2 - 3)/1 + 1 = 28\n",
    "# (?, 28, 28, 1) --> (?, 28, 28, 32)\n",
    "\n",
    "W1 = tf.Variable(tf.random.normal([3,3,1,32]),name=\"weight1\")\n",
    "\n",
    "def L1_conv2d(X):\n",
    "    return tf.nn.conv2d(X,W1,strides=[1, 1, 1, 1], padding=\"SAME\")\n",
    "\n",
    "# <2> relu\n",
    "def L1_relu(X):\n",
    "    return tf.nn.relu(L1_conv2d(X)) # shape 변화 X\n",
    "\n",
    "# <3> max_pool\n",
    "# input image : (?, 28, 28, 32)\n",
    "# ksize : (1,2,2,1), strides : (1,2,2,1), padding='SAME'\n",
    "# 출력 이미지 : (28+1 - 2)/2 + 1 = 14\n",
    "#  (?, 28, 28, 32) -->  (?, 14, 14, 32)\n",
    "def L1_Maxpool(X):\n",
    "    return tf.nn.max_pool(L1_relu(X),ksize=[1,2,2,1],strides=[1,2,2,1], padding=\"SAME\")"
   ]
  },
  {
   "cell_type": "code",
   "execution_count": 54,
   "id": "74d892d0-874c-450b-8f0c-4452c3c1f28c",
   "metadata": {},
   "outputs": [],
   "source": [
    "# Layer 2 : conv2d - relu - max_pool - flatten\n",
    "# (?, 14, 14, 32) --> (?, 7*7*64)\n",
    "\n",
    "# <1> conv2d\n",
    "# L2 input image shape : (?, 14, 14, 32)\n",
    "# filter : (3,3,32,64), 필터 64개\n",
    "# strides : (1,1,1,1), padding='SAME'\n",
    "# 출력 이미지 : (14+2 - 3)/1 + 1 = 14\n",
    "# (?, 14, 14, 32) --> (?, 14,14,64)\n",
    "\n",
    "W2 = tf.Variable(tf.random.normal([3,3,32,64]),name=\"weight2\")\n",
    "\n",
    "def L2_conv2d(X):\n",
    "    return tf.nn.conv2d(L1_Maxpool(X),W2,strides=[1, 1, 1, 1], padding=\"SAME\")\n",
    "\n",
    "# <2> relu\n",
    "def L2_relu(X):\n",
    "    return tf.nn.relu(L2_conv2d(X)) # shape 변화 X\n",
    "\n",
    "# <3> max_pool\n",
    "# input image : (?, 14, 14, 64)\n",
    "# ksize : (1,2,2,1), strides : (1,2,2,1), padding='SAME'\n",
    "# 출력 이미지 : (14+1 - 2)/2 + 1 = 7\n",
    "#  (?, 14, 14, 64) -->  (?, 7, 7, 64)\n",
    "def L2_Maxpool(X):\n",
    "    return tf.nn.max_pool(L2_relu(X),ksize=[1,2,2,1],strides=[1,2,2,1], padding=\"SAME\")\n",
    "\n",
    "# <4> flatten layer : 다차원 배열을 2차원으로 변환하여 FC layer에 전달한다\n",
    "def L2_flat(X):\n",
    "    return tf.reshape(L2_Maxpool(X), [-1,7*7*64])"
   ]
  },
  {
   "cell_type": "code",
   "execution_count": 55,
   "id": "0366cc60-4f21-4dcc-b6ab-71d80dcb863a",
   "metadata": {},
   "outputs": [],
   "source": [
    "# Layer 3 : FC(Fully Connected Layer)\n",
    "# (?,7*7*64) * (  7*7*64,  10 ) = (?,10)\n",
    "W3 = tf.Variable(tf.random.normal([7*7*64, nb_classes]),name='weight3')\n",
    "b = tf.Variable(tf.random.normal([nb_classes]),name='bias')"
   ]
  },
  {
   "cell_type": "code",
   "execution_count": 60,
   "id": "e32b4632-2e0c-48e4-b67d-a2b0223ebf04",
   "metadata": {},
   "outputs": [],
   "source": [
    "# 예측 함수(hypothesis) : H(x) = softmax(W*X + b)\n",
    "def logits(X):\n",
    "    return tf.matmul(L2_flat(X),W3) + b\n",
    "    \n",
    "def hypothesis(X):\n",
    "    return tf.nn.softmax(logits(X))"
   ]
  },
  {
   "cell_type": "code",
   "execution_count": 61,
   "id": "3f89ac23-5f60-4d69-b94a-7c0626d4cd69",
   "metadata": {},
   "outputs": [],
   "source": [
    "optimizer = tf.keras.optimizers.Adam(learning_rate=0.01)"
   ]
  },
  {
   "cell_type": "code",
   "execution_count": 62,
   "id": "7e00ad8e-ca77-4d7a-a596-30cf33469ec6",
   "metadata": {},
   "outputs": [
    {
     "data": {
      "text/plain": [
       "TensorShape([60000, 28, 28])"
      ]
     },
     "execution_count": 62,
     "metadata": {},
     "output_type": "execute_result"
    }
   ],
   "source": [
    "x_train.shape"
   ]
  },
  {
   "cell_type": "code",
   "execution_count": 64,
   "id": "db3a7c21-4a6d-4f4f-8faf-c4456764dcef",
   "metadata": {
    "scrolled": true
   },
   "outputs": [
    {
     "name": "stdout",
     "output_type": "stream",
     "text": [
      "-----------start!!--------------\n",
      "Epoch: 0001 cost: 21572.957773438\n",
      "Epoch: 0002 cost: 3155.678679199\n",
      "Epoch: 0003 cost: 1888.005522461\n",
      "Epoch: 0004 cost: 1325.722739258\n",
      "Epoch: 0005 cost: 996.843026733\n",
      "Epoch: 0006 cost: 780.098104248\n",
      "Epoch: 0007 cost: 621.970330200\n",
      "Epoch: 0008 cost: 524.722174072\n",
      "Epoch: 0009 cost: 457.456445618\n",
      "Epoch: 0010 cost: 389.688021545\n",
      "Epoch: 0011 cost: 337.727833557\n",
      "Epoch: 0012 cost: 284.673877563\n",
      "Epoch: 0013 cost: 245.595002899\n",
      "Epoch: 0014 cost: 208.207411346\n",
      "Epoch: 0015 cost: 185.912599182\n",
      "Epoch: 0016 cost: 169.433121872\n",
      "Epoch: 0017 cost: 142.446161804\n",
      "Epoch: 0018 cost: 125.435796127\n",
      "Epoch: 0019 cost: 109.810541954\n",
      "Epoch: 0020 cost: 100.607365189\n",
      "Epoch: 0021 cost: 88.225869141\n",
      "Epoch: 0022 cost: 76.783376751\n",
      "Epoch: 0023 cost: 71.982066345\n",
      "Epoch: 0024 cost: 59.648774123\n",
      "Epoch: 0025 cost: 57.705766869\n",
      "Epoch: 0026 cost: 54.313736405\n",
      "Epoch: 0027 cost: 47.871068583\n",
      "Epoch: 0028 cost: 44.148553438\n",
      "Epoch: 0029 cost: 40.213280935\n",
      "Epoch: 0030 cost: 33.271895990\n",
      "Epoch: 0031 cost: 29.365028172\n",
      "Epoch: 0032 cost: 28.538676033\n",
      "Epoch: 0033 cost: 30.044745159\n",
      "Epoch: 0034 cost: 27.093732271\n",
      "Epoch: 0035 cost: 24.700100174\n",
      "Epoch: 0036 cost: 21.693357157\n",
      "Epoch: 0037 cost: 26.426691131\n",
      "Epoch: 0038 cost: 25.032783470\n",
      "Epoch: 0039 cost: 26.086792094\n",
      "Epoch: 0040 cost: 28.798775536\n",
      "Epoch: 0041 cost: 24.024261189\n",
      "Epoch: 0042 cost: 19.796444207\n",
      "Epoch: 0043 cost: 23.586904168\n",
      "Epoch: 0044 cost: 16.072735775\n",
      "Epoch: 0045 cost: 10.355478573\n",
      "Epoch: 0046 cost: 5.743665564\n",
      "Epoch: 0047 cost: 3.529521836\n",
      "Epoch: 0048 cost: 2.131467622\n",
      "Epoch: 0049 cost: 2.426564978\n",
      "Epoch: 0050 cost: 1.665802062\n",
      "-----------Fin!!--------------\n"
     ]
    }
   ],
   "source": [
    "# batch 사이즈로 나누어 학습, 효율적이며 학습 시간 단축\n",
    "training_epoch = 50\n",
    "batch_size = 1200\n",
    "\n",
    "print(\"-----------start!!--------------\")\n",
    "for epoch in range (training_epoch): # 50회\n",
    "\n",
    "    avg_cost = 0\n",
    "    \n",
    "    # 50 = 60000/1200\n",
    "    total_batch = int(x_train.shape[0]/batch_size)\n",
    "    for k in range(total_batch): # 50 회\n",
    "        batch_xs = x_train[k*batch_size:batch_size*(k+1)] # 1200개 x데이터\n",
    "        batch_ys = Y_one_hot[k*batch_size:batch_size*(k+1)] # 1200개 y데이터\n",
    "\n",
    "        # X값의 shape을 4차원으로 변환\n",
    "        X_img = tf.reshape(batch_xs,[-1,28,28,1])\n",
    "        def cost_func_batch():\n",
    "            cost_i = tf.nn.softmax_cross_entropy_with_logits(logits=logits(X_img),\n",
    "                                                             labels = batch_ys)\n",
    "            cost = tf.reduce_mean(cost_i)\n",
    "            return cost\n",
    "            \n",
    "        optimizer.minimize(cost_func_batch,var_list=[W1,W2,W3,b])\n",
    "        avg_cost += cost_func_batch().numpy()/total_batch\n",
    "    print('Epoch:','%04d'%(epoch + 1),'cost:','{:.9f}'.format(avg_cost))\n",
    "print(\"-----------Fin!!--------------\")\n",
    "\n",
    "    "
   ]
  },
  {
   "cell_type": "code",
   "execution_count": 65,
   "id": "4d06587b-d9fc-4f49-a6a3-572938580bdf",
   "metadata": {},
   "outputs": [
    {
     "name": "stdout",
     "output_type": "stream",
     "text": [
      "Accuracy: 0.9805\n",
      "***** Predict\n",
      "[7 2 1 ... 4 5 6] [7 2 1 ... 4 5 6]\n"
     ]
    }
   ],
   "source": [
    "# 정확도 측정 : accuracy computation\n",
    "\n",
    "# y_test 값의 one-hot 인코딩\n",
    "Y_one_hot = tf.one_hot(y_test,nb_classes)    # (10000,10)\n",
    "# print(Y_one_hot.shape)                       # (10000,10)  , (2차원)\n",
    "\n",
    "# tf.argmax() : 값이 가장 큰 요소의 인덱스 값을 반환\n",
    "def predict(X):\n",
    "    return tf.argmax(hypothesis(X),axis=1)\n",
    "\n",
    "# X값의 shape을 4차원으로 변환\n",
    "X_img = tf.reshape(x_test,[-1,28,28,1])\n",
    "        \n",
    "correct_predict = tf.equal(predict(X_img),tf.argmax(Y_one_hot,1))\n",
    "accuracy = tf.reduce_mean(tf.cast(correct_predict, dtype = tf.float32))\n",
    "print(\"Accuracy:\",accuracy.numpy()) # Accuracy: 0.9534\n",
    "\n",
    "#예측\n",
    "print('***** Predict')\n",
    "pred = predict(X_img).numpy()\n",
    "print(pred,y_test)"
   ]
  }
 ],
 "metadata": {
  "kernelspec": {
   "display_name": "Python 3 (ipykernel)",
   "language": "python",
   "name": "python3"
  },
  "language_info": {
   "codemirror_mode": {
    "name": "ipython",
    "version": 3
   },
   "file_extension": ".py",
   "mimetype": "text/x-python",
   "name": "python",
   "nbconvert_exporter": "python",
   "pygments_lexer": "ipython3",
   "version": "3.10.6"
  }
 },
 "nbformat": 4,
 "nbformat_minor": 5
}
