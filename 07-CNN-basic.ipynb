{
 "cells": [
  {
   "cell_type": "code",
   "execution_count": 4,
   "id": "6fb44c52-95e8-4c42-bd56-18d3f72686dd",
   "metadata": {
    "scrolled": true
   },
   "outputs": [
    {
     "name": "stdout",
     "output_type": "stream",
     "text": [
      "Collecting matplotlib\n",
      "  Downloading matplotlib-3.9.0-cp310-cp310-win_amd64.whl.metadata (11 kB)\n",
      "Collecting contourpy>=1.0.1 (from matplotlib)\n",
      "  Downloading contourpy-1.2.1-cp310-cp310-win_amd64.whl.metadata (5.8 kB)\n",
      "Collecting cycler>=0.10 (from matplotlib)\n",
      "  Downloading cycler-0.12.1-py3-none-any.whl.metadata (3.8 kB)\n",
      "Collecting fonttools>=4.22.0 (from matplotlib)\n",
      "  Downloading fonttools-4.53.0-cp310-cp310-win_amd64.whl.metadata (165 kB)\n",
      "     ---------------------------------------- 0.0/165.5 kB ? eta -:--:--\n",
      "     -------------------------------------- 165.5/165.5 kB 5.0 MB/s eta 0:00:00\n",
      "Collecting kiwisolver>=1.3.1 (from matplotlib)\n",
      "  Downloading kiwisolver-1.4.5-cp310-cp310-win_amd64.whl.metadata (6.5 kB)\n",
      "Requirement already satisfied: numpy>=1.23 in c:\\users\\user\\anaconda3\\envs\\google\\lib\\site-packages (from matplotlib) (1.26.4)\n",
      "Requirement already satisfied: packaging>=20.0 in c:\\users\\user\\anaconda3\\envs\\google\\lib\\site-packages (from matplotlib) (24.1)\n",
      "Collecting pillow>=8 (from matplotlib)\n",
      "  Downloading pillow-10.3.0-cp310-cp310-win_amd64.whl.metadata (9.4 kB)\n",
      "Collecting pyparsing>=2.3.1 (from matplotlib)\n",
      "  Downloading pyparsing-3.1.2-py3-none-any.whl.metadata (5.1 kB)\n",
      "Requirement already satisfied: python-dateutil>=2.7 in c:\\users\\user\\anaconda3\\envs\\google\\lib\\site-packages (from matplotlib) (2.9.0.post0)\n",
      "Requirement already satisfied: six>=1.5 in c:\\users\\user\\anaconda3\\envs\\google\\lib\\site-packages (from python-dateutil>=2.7->matplotlib) (1.16.0)\n",
      "Downloading matplotlib-3.9.0-cp310-cp310-win_amd64.whl (8.0 MB)\n",
      "   ---------------------------------------- 0.0/8.0 MB ? eta -:--:--\n",
      "   - -------------------------------------- 0.4/8.0 MB 8.1 MB/s eta 0:00:01\n",
      "   ---- ----------------------------------- 0.9/8.0 MB 11.6 MB/s eta 0:00:01\n",
      "   ------- -------------------------------- 1.4/8.0 MB 11.3 MB/s eta 0:00:01\n",
      "   --------- ------------------------------ 1.9/8.0 MB 11.1 MB/s eta 0:00:01\n",
      "   ------------ --------------------------- 2.4/8.0 MB 11.1 MB/s eta 0:00:01\n",
      "   -------------- ------------------------- 3.0/8.0 MB 11.1 MB/s eta 0:00:01\n",
      "   ----------------- ---------------------- 3.5/8.0 MB 11.1 MB/s eta 0:00:01\n",
      "   -------------------- ------------------- 4.0/8.0 MB 11.1 MB/s eta 0:00:01\n",
      "   ---------------------- ----------------- 4.5/8.0 MB 11.0 MB/s eta 0:00:01\n",
      "   ------------------------- -------------- 5.0/8.0 MB 11.0 MB/s eta 0:00:01\n",
      "   --------------------------- ------------ 5.5/8.0 MB 11.0 MB/s eta 0:00:01\n",
      "   ------------------------------ --------- 6.0/8.0 MB 11.0 MB/s eta 0:00:01\n",
      "   -------------------------------- ------- 6.5/8.0 MB 10.9 MB/s eta 0:00:01\n",
      "   ----------------------------------- ---- 7.0/8.0 MB 11.2 MB/s eta 0:00:01\n",
      "   ------------------------------------- -- 7.5/8.0 MB 11.2 MB/s eta 0:00:01\n",
      "   ---------------------------------------  7.9/8.0 MB 11.0 MB/s eta 0:00:01\n",
      "   ---------------------------------------- 8.0/8.0 MB 10.8 MB/s eta 0:00:00\n",
      "Downloading contourpy-1.2.1-cp310-cp310-win_amd64.whl (187 kB)\n",
      "   ---------------------------------------- 0.0/187.5 kB ? eta -:--:--\n",
      "   ---------------------------------------- 187.5/187.5 kB 5.5 MB/s eta 0:00:00\n",
      "Downloading cycler-0.12.1-py3-none-any.whl (8.3 kB)\n",
      "Downloading fonttools-4.53.0-cp310-cp310-win_amd64.whl (2.2 MB)\n",
      "   ---------------------------------------- 0.0/2.2 MB ? eta -:--:--\n",
      "   --------- ------------------------------ 0.5/2.2 MB 10.9 MB/s eta 0:00:01\n",
      "   ------------------ --------------------- 1.0/2.2 MB 11.0 MB/s eta 0:00:01\n",
      "   -------------------------- ------------- 1.5/2.2 MB 10.5 MB/s eta 0:00:01\n",
      "   ----------------------------------- ---- 2.0/2.2 MB 10.4 MB/s eta 0:00:01\n",
      "   ---------------------------------------- 2.2/2.2 MB 10.0 MB/s eta 0:00:00\n",
      "Downloading kiwisolver-1.4.5-cp310-cp310-win_amd64.whl (56 kB)\n",
      "   ---------------------------------------- 0.0/56.1 kB ? eta -:--:--\n",
      "   ---------------------------------------- 56.1/56.1 kB ? eta 0:00:00\n",
      "Downloading pillow-10.3.0-cp310-cp310-win_amd64.whl (2.5 MB)\n",
      "   ---------------------------------------- 0.0/2.5 MB ? eta -:--:--\n",
      "   ------ --------------------------------- 0.4/2.5 MB 12.9 MB/s eta 0:00:01\n",
      "   -------------- ------------------------- 0.9/2.5 MB 11.6 MB/s eta 0:00:01\n",
      "   --------------------- ------------------ 1.4/2.5 MB 11.0 MB/s eta 0:00:01\n",
      "   ---------------------------- ----------- 1.8/2.5 MB 10.3 MB/s eta 0:00:01\n",
      "   ---------------------------------- ----- 2.2/2.5 MB 9.9 MB/s eta 0:00:01\n",
      "   ---------------------------------------- 2.5/2.5 MB 9.5 MB/s eta 0:00:00\n",
      "Downloading pyparsing-3.1.2-py3-none-any.whl (103 kB)\n",
      "   ---------------------------------------- 0.0/103.2 kB ? eta -:--:--\n",
      "   ---------------------------------------- 103.2/103.2 kB 6.2 MB/s eta 0:00:00\n",
      "Installing collected packages: pyparsing, pillow, kiwisolver, fonttools, cycler, contourpy, matplotlib\n",
      "Successfully installed contourpy-1.2.1 cycler-0.12.1 fonttools-4.53.0 kiwisolver-1.4.5 matplotlib-3.9.0 pillow-10.3.0 pyparsing-3.1.2\n"
     ]
    }
   ],
   "source": [
    "!pip install matplotlib"
   ]
  },
  {
   "cell_type": "code",
   "execution_count": 31,
   "id": "9ec20ee0-c1d4-4dcc-81fc-c4fab7994a99",
   "metadata": {},
   "outputs": [],
   "source": [
    "#conv2d layer\n",
    "# max pooling layer\n",
    "# toy image 사용\n",
    "\n",
    "import tensorflow as tf\n",
    "import numpy as np\n",
    "import matplotlib.pyplot as plt\n"
   ]
  },
  {
   "cell_type": "code",
   "execution_count": 32,
   "id": "f0620fda-91a9-4c81-849c-42798252de15",
   "metadata": {
    "scrolled": true
   },
   "outputs": [
    {
     "name": "stdout",
     "output_type": "stream",
     "text": [
      "[[[[1.]\n",
      "   [2.]\n",
      "   [3.]]\n",
      "\n",
      "  [[4.]\n",
      "   [5.]\n",
      "   [6.]]\n",
      "\n",
      "  [[7.]\n",
      "   [8.]\n",
      "   [9.]]]]\n",
      "(1, 3, 3, 1)\n"
     ]
    },
    {
     "data": {
      "image/png": "[encoded data removed]",
      "text/plain": [
       "<Figure size 640x480 with 1 Axes>"
      ]
     },
     "metadata": {},
     "output_type": "display_data"
    },
    {
     "name": "stdout",
     "output_type": "stream",
     "text": [
      "[[[[1.]\n",
      "   [2.]\n",
      "   [3.]]\n",
      "\n",
      "  [[4.]\n",
      "   [5.]\n",
      "   [6.]]\n",
      "\n",
      "  [[7.]\n",
      "   [8.]\n",
      "   [9.]]]]\n",
      "(1, 3, 3, 1)\n"
     ]
    },
    {
     "data": {
      "image/png": "[encoded data removed]",
      "text/plain": [
       "<Figure size 640x480 with 1 Axes>"
      ]
     },
     "metadata": {},
     "output_type": "display_data"
    }
   ],
   "source": [
    "# 입력 이미지\n",
    "image = np.array([[[[1],[2],[3]],\n",
    "                   [[4],[5],[6]],\n",
    "                   [[7],[8],[9]]]] , dtype=np.float32)\n",
    "print(image)\n",
    "print(image.shape)  # (1, 3, 3, 1), Rank=4, (4차원)\n",
    "plt.imshow(image.reshape(3,3),cmap='Greys')\n",
    "plt.show()\n",
    "print(image)\n",
    "print(image.shape)  # (1, 3, 3, 1), Rank=4, (4차원)\n",
    "plt.imshow(image.reshape(3,3),cmap='Greys')\n",
    "plt.show()"
   ]
  },
  {
   "cell_type": "code",
   "execution_count": 33,
   "id": "b3276279-06c5-464c-9b30-e89d71bc1347",
   "metadata": {
    "scrolled": true
   },
   "outputs": [
    {
     "name": "stdout",
     "output_type": "stream",
     "text": [
      "[[[[1.]\n",
      "   [2.]\n",
      "   [3.]]\n",
      "\n",
      "  [[4.]\n",
      "   [5.]\n",
      "   [6.]]\n",
      "\n",
      "  [[7.]\n",
      "   [8.]\n",
      "   [9.]]]]\n",
      "(1, 3, 3, 1)\n"
     ]
    },
    {
     "data": {
      "image/png": "[encoded data removed]",
      "text/plain": [
       "<Figure size 640x480 with 1 Axes>"
      ]
     },
     "metadata": {},
     "output_type": "display_data"
    }
   ],
   "source": [
    "# 입력 이미지\n",
    "image = np.array([[[[1],[2],[3]],\n",
    "                   [[4],[5],[6]],\n",
    "                   [[7],[8],[9]]]] , dtype=np.float32)\n",
    "print(image)\n",
    "print(image.shape)  # (1, 3, 3, 1), Rank=4, (4차원)\n",
    "plt.imshow(image.reshape(3,3),cmap='Greys')\n",
    "plt.show()"
   ]
  },
  {
   "cell_type": "code",
   "execution_count": 34,
   "id": "3e03355c-68f9-491b-8a90-ed29b6d9e029",
   "metadata": {
    "scrolled": true
   },
   "outputs": [
    {
     "name": "stdout",
     "output_type": "stream",
     "text": [
      "[[[[1.]]\n",
      "\n",
      "  [[1.]]]\n",
      "\n",
      "\n",
      " [[[1.]]\n",
      "\n",
      "  [[1.]]]]\n",
      "[[[[12.]\n",
      "   [16.]]\n",
      "\n",
      "  [[24.]\n",
      "   [28.]]]]\n",
      "(1, 2, 2, 1)\n"
     ]
    },
    {
     "data": {
      "image/png": "[encoded data removed]",
      "text/plain": [
       "<Figure size 640x480 with 1 Axes>"
      ]
     },
     "metadata": {},
     "output_type": "display_data"
    }
   ],
   "source": [
    "# CNN(Convolutional Neural Network)\n",
    "# conv2d layer , filter : (2,2,1,1), strides : 1\n",
    "\n",
    "# 입력 이미지 : (1,3,3,1), (N,H,W,C)\n",
    "# 1 : 이미지의 갯수\n",
    "# 3 : 가로 크기\n",
    "# 3 : 세로 크기\n",
    "# 1 : color, Grey scale ==> 1, RGB ==> 3\n",
    "\n",
    "# filter : (2,2,1,1)\n",
    "# 2 : 가로 크기\n",
    "# 2 : 세로 크기\n",
    "# 1 : color, Grey scale ==> 1, RGB ==> 3\n",
    "# 1 : filter 의 갯수\n",
    "\n",
    "# (N - F)/strides + 1\n",
    "# 출력 이미지 : (3 - 2)/1 + 1 = 2, zero padding을 안했을 때 (padding='VALID')\n",
    "# (1,3,3,1) ---> (1,2,2,1)\n",
    "\n",
    "# filter : (2,2,1,1)\n",
    "weight = tf.constant([[[[1.]],[[1.]]],   \n",
    "                      [[[1.]],[[1.]]]])\n",
    "print(weight.numpy())\n",
    "\n",
    "# conv2d layer\n",
    "conv2d = tf.nn.conv2d(image, weight, strides=[1,1,1,1],padding=\"VALID\")\n",
    "conv2d_image = conv2d.numpy()\n",
    "print(conv2d_image)\n",
    "print(conv2d_image.shape)\n",
    "\n",
    "# 시각화\n",
    "plt.imshow(conv2d_image.reshape(2,2), cmap=\"Greys\")\n",
    "plt.show()"
   ]
  },
  {
   "cell_type": "code",
   "execution_count": 9,
   "id": "876cbb90-ea99-4fae-bd96-775a7ff78bf3",
   "metadata": {
    "scrolled": true
   },
   "outputs": [
    {
     "name": "stdout",
     "output_type": "stream",
     "text": [
      "[[[[1.]]\n",
      "\n",
      "  [[1.]]]\n",
      "\n",
      "\n",
      " [[[1.]]\n",
      "\n",
      "  [[1.]]]]\n",
      "[[[[12.]\n",
      "   [16.]\n",
      "   [ 9.]]\n",
      "\n",
      "  [[24.]\n",
      "   [28.]\n",
      "   [15.]]\n",
      "\n",
      "  [[15.]\n",
      "   [17.]\n",
      "   [ 9.]]]]\n",
      "(1, 3, 3, 1)\n"
     ]
    },
    {
     "data": {
      "image/png": "[encoded data removed]",
      "text/plain": [
       "<Figure size 640x480 with 1 Axes>"
      ]
     },
     "metadata": {},
     "output_type": "display_data"
    }
   ],
   "source": [
    "# filter : (2,2,1,1)\n",
    "weight = tf.constant([[[[1.]],[[1.]]],   \n",
    "                      [[[1.]],[[1.]]]])\n",
    "print(weight.numpy())\n",
    "\n",
    "# conv2d layer\n",
    "conv2d = tf.nn.conv2d(image, weight, strides=[1,1,1,1],padding=\"SAME\")\n",
    "conv2d_image = conv2d.numpy()\n",
    "print(conv2d_image)\n",
    "print(conv2d_image.shape)\n",
    "\n",
    "# 시각화\n",
    "plt.imshow(conv2d_image.reshape(3,3), cmap=\"Greys\")\n",
    "plt.show()"
   ]
  },
  {
   "cell_type": "code",
   "execution_count": 16,
   "id": "e5f4ac5c-25ca-493c-9b5d-4f384362623b",
   "metadata": {},
   "outputs": [
    {
     "name": "stdout",
     "output_type": "stream",
     "text": [
      "[[[[ 1. 10. -1.]]\n",
      "\n",
      "  [[ 1. 10. -1.]]]\n",
      "\n",
      "\n",
      " [[[ 1. 10. -1.]]\n",
      "\n",
      "  [[ 1. 10. -1.]]]]\n",
      "(2, 2, 1, 3)\n",
      "[[[[ 10. 100. -10.]\n",
      "   [  4.  40.  -4.]]\n",
      "\n",
      "  [[  3.  30.  -3.]\n",
      "   [  1.  10.  -1.]]]]\n",
      "(1, 2, 2, 3)\n"
     ]
    }
   ],
   "source": [
    "# conv2d layer, 3 filters, zero padding(padding='SAME')\n",
    "# image : (1,3,3,1), filter : (2,2,1,3) , strides = (1,1,1,1)\n",
    "\n",
    "weight = tf.constant([[[[1.,10.,-1.]],[[1.,10.,-1.]]],     \n",
    "                      [[[1.,10.,-1.]],[[1.,10.,-1.]]]])\n",
    "print(weight.numpy())\n",
    "print(weight.shape) # (2, 2, 1, 3)\n",
    "\n",
    "# conv2d layer\n",
    "conv2d = tf.nn.conv2d(image,weight,strides=[1,1,1,1],padding='SAME')\n",
    "\n",
    "conv2d_image = conv2d.numpy()\n",
    "print(conv2d_image)\n",
    "print(conv2d_image.shape) # (1, 3, 3, 3)\n",
    "\n",
    "# 시각화\n",
    "conv2d_image = np.swapaxes"
   ]
  },
  {
   "cell_type": "code",
   "execution_count": 17,
   "id": "7f6d858e-a5ab-4a37-95ba-03921b5bed83",
   "metadata": {},
   "outputs": [
    {
     "name": "stdout",
     "output_type": "stream",
     "text": [
      "[[[[4.]\n",
      "   [3.]]\n",
      "\n",
      "  [[2.]\n",
      "   [1.]]]]\n",
      "(1, 2, 2, 1)\n"
     ]
    },
    {
     "data": {
      "image/png": "[encoded data removed]",
      "text/plain": [
       "<Figure size 640x480 with 1 Axes>"
      ]
     },
     "metadata": {},
     "output_type": "display_data"
    }
   ],
   "source": [
    "# max pooling\n",
    "image  = np.array([[[[4.],[3.]],\n",
    "                    [[2.],[1.]]]],dtype=np.float32)\n",
    "print(image)\n",
    "print(image.shape) \n",
    "plt.imshow(image.reshape(2,2),cmap='Greys')\n",
    "plt.show()"
   ]
  },
  {
   "cell_type": "code",
   "execution_count": 18,
   "id": "a2a9d29e-ca5a-4f0b-94c7-934a60e3aa04",
   "metadata": {},
   "outputs": [
    {
     "name": "stdout",
     "output_type": "stream",
     "text": [
      "[[[[4.]]]]\n",
      "(1, 1, 1, 1)\n"
     ]
    }
   ],
   "source": [
    "# padding='VALID'  , zero padding을 하지 않음  , (1,2,2,1) --> (1,1,1,1)\n",
    "# (N - F)/strides + 1 , F: kernel size(ksize)\n",
    "# (2 - 2)/1 + 1 = 1\n",
    "# ksize : 2, 원본에서 추출할 이미지의 범위\n",
    "\n",
    "pool = tf.nn.max_pool(image,ksize=[1,2,2,1],strides=[1,1,1,1],padding='VALID')\n",
    "print(pool.numpy()) # [[[[4.]]]]\n",
    "print(pool.shape)  # (1, 1, 1, 1"
   ]
  },
  {
   "cell_type": "code",
   "execution_count": 19,
   "id": "62b06af9-798a-4f85-983f-87f3d6038b65",
   "metadata": {},
   "outputs": [
    {
     "name": "stdout",
     "output_type": "stream",
     "text": [
      "[[[[4.]\n",
      "   [3.]]\n",
      "\n",
      "  [[2.]\n",
      "   [1.]]]]\n",
      "(1, 2, 2, 1)\n"
     ]
    }
   ],
   "source": [
    "# padding='SAME'  , zero padding을 했을 때  , (1,2,2,1) --> (1,2,2,1)\n",
    "# (N - F)/strides + 1 , F: kernel size(ksize)\n",
    "# (2+1 - 2)/1 + 1 = 2\n",
    "# ksize : 2, 원본에서 추출할 이미지의 범위\n",
    "\n",
    "pool = tf.nn.max_pool(image,ksize=[1,2,2,1],strides=[1,1,1,1],padding='SAME')\n",
    "print(pool.numpy()) # \n",
    "print(pool.shape)   # (1, 2, 2, 1)"
   ]
  },
  {
   "cell_type": "code",
   "execution_count": 20,
   "id": "6df47593-9b81-4e6b-8ab4-8219620c9ba3",
   "metadata": {},
   "outputs": [
    {
     "name": "stdout",
     "output_type": "stream",
     "text": [
      "Downloading data from https://storage.googleapis.com/tensorflow/tf-keras-datasets/mnist.npz\n",
      "11490434/11490434 [==============================] - 3s 0us/step\n",
      "(60000, 28, 28)\n",
      "(28, 28)\n",
      "2\n"
     ]
    },
    {
     "data": {
      "image/png": "[encoded data removed]",
      "text/plain": [
       "<Figure size 640x480 with 1 Axes>"
      ]
     },
     "metadata": {},
     "output_type": "display_data"
    }
   ],
   "source": [
    "# MIST imgae data 처리\n",
    "# mnist 데이터 가져오기\n",
    "mnist = tf.keras.datasets.mnist\n",
    "(x_train,y_train),(x_test,y_test) = mnist.load_data()\n",
    "print(x_train.shape)\n",
    "\n",
    "image = x_train[5]\n",
    "print(image.shape)\n",
    "print(y_train[5])  # 숫자 2\n",
    "\n",
    "plt.imshow(image,cmap='Greys')\n",
    "plt.show()"
   ]
  },
  {
   "cell_type": "code",
   "execution_count": 21,
   "id": "3f81f2fe-336f-4f5c-a8ed-96c77651046f",
   "metadata": {},
   "outputs": [
    {
     "data": {
      "text/plain": [
       "array([5, 0, 4, 1, 9, 2, 1, 3, 1, 4, 3, 5, 3, 6, 1, 7, 2, 8, 6, 9, 4, 0,\n",
       "       9, 1, 1, 2, 4, 3, 2, 7, 3, 8, 6, 9, 0, 5, 6, 0, 7, 6, 1, 8, 7, 9,\n",
       "       3, 9, 8, 5, 9, 3, 3, 0, 7, 4, 9, 8, 0, 9, 4, 1, 4, 4, 6, 0, 4, 5,\n",
       "       6, 1, 0, 0, 1, 7, 1, 6, 3, 0, 2, 1, 1, 7, 9, 0, 2, 6, 7, 8, 3, 9,\n",
       "       0, 4, 6, 7, 4, 6, 8, 0, 7, 8, 3, 1], dtype=uint8)"
      ]
     },
     "execution_count": 21,
     "metadata": {},
     "output_type": "execute_result"
    }
   ],
   "source": [
    "y_train[:100]"
   ]
  },
  {
   "cell_type": "code",
   "execution_count": 28,
   "id": "0d50173a-f551-4397-aee8-8f6e807161f8",
   "metadata": {
    "scrolled": true
   },
   "outputs": [
    {
     "name": "stdout",
     "output_type": "stream",
     "text": [
      "(1, 28, 28, 1)\n",
      "(1, 14, 14, 5)\n",
      "(5, 14, 14, 1)\n"
     ]
    },
    {
     "data": {
      "image/png": "[encoded data removed]",
      "text/plain": [
       "<Figure size 1500x1500 with 5 Axes>"
      ]
     },
     "metadata": {},
     "output_type": "display_data"
    }
   ],
   "source": [
    "#### MNIST conv2d layer\n",
    "# image : (1,28,28,1)\n",
    "# filter : (3,3,1,5) , 필터 5개\n",
    "# stride : (1,2,2,1) , padding = 'SAME'\n",
    "# 출력 이미지 : (28+1 - 3)/2 + 1 = 14\n",
    "# (1,28,28,1) --> (1,14,14,5)\n",
    "\n",
    "img = image.reshape(-1,28,28,1)\n",
    "print(img.shape) # (1, 28, 28, 1)\n",
    "\n",
    "W = tf.Variable(tf.random.normal([3,3,1,5]),name='weight') # filter = weight\n",
    "conv2d = tf.nn.conv2d(img,W,strides=[1,2,2,1],padding='SAME')\n",
    "\n",
    "conv2d_image = conv2d.numpy()\n",
    "print(conv2d_image.shape)     # (1, 14, 14, 5)\n",
    "\n",
    "# 시각화\n",
    "conv2d_image = np.swapaxes(conv2d_image,0,3) # 0번 축과 3번 축이 서로 맞바꾸어짐\n",
    "# print(conv2d_image)\n",
    "print(conv2d_image.shape) # (5,14,14,1)\n",
    "\n",
    "plt.figure(figsize=(15,15))\n",
    "for i,one_image in enumerate(conv2d_image):\n",
    "    #print(one_image)\n",
    "    plt.subplot(1,5,i + 1)\n",
    "    plt.imshow(one_image.reshape(14,14),cmap='Greys')"
   ]
  },
  {
   "cell_type": "code",
   "execution_count": 22,
   "id": "499707ec-c9e6-4d2b-84ba-b7b02aec98c0",
   "metadata": {
    "scrolled": true
   },
   "outputs": [
    {
     "name": "stdout",
     "output_type": "stream",
     "text": [
      "Downloading data from https://storage.googleapis.com/tensorflow/tf-keras-datasets/train-labels-idx1-ubyte.gz\n",
      "29515/29515 [==============================] - 0s 0us/step\n",
      "Downloading data from https://storage.googleapis.com/tensorflow/tf-keras-datasets/train-images-idx3-ubyte.gz\n",
      "26421880/26421880 [==============================] - 4s 0us/step\n",
      "Downloading data from https://storage.googleapis.com/tensorflow/tf-keras-datasets/t10k-labels-idx1-ubyte.gz\n",
      "5148/5148 [==============================] - 0s 0s/step\n",
      "Downloading data from https://storage.googleapis.com/tensorflow/tf-keras-datasets/t10k-images-idx3-ubyte.gz\n",
      "4422102/4422102 [==============================] - 1s 0us/step\n",
      "(60000, 28, 28)\n",
      "(28, 28)\n",
      "2\n"
     ]
    },
    {
     "data": {
      "image/png": "[encoded data removed]",
      "text/plain": [
       "<Figure size 640x480 with 1 Axes>"
      ]
     },
     "metadata": {},
     "output_type": "display_data"
    }
   ],
   "source": [
    "# MIST imgae data 처리\n",
    "# mnist 데이터 가져오기\n",
    "mnist = tf.keras.datasets.fashion_mnist\n",
    "(x_train,y_train),(x_test,y_test) = mnist.load_data()\n",
    "print(x_train.shape)\n",
    "\n",
    "image = x_train[5]\n",
    "print(image.shape)\n",
    "print(y_train[5])  # 숫자 2\n",
    "\n",
    "plt.imshow(image,cmap='Greys')\n",
    "plt.show()"
   ]
  },
  {
   "cell_type": "code",
   "execution_count": 29,
   "id": "a4c12cf0-607d-45ec-bc31-4db0567327d4",
   "metadata": {},
   "outputs": [
    {
     "name": "stdout",
     "output_type": "stream",
     "text": [
      "(1, 7, 7, 5)\n",
      "(5, 7, 7, 1)\n"
     ]
    },
    {
     "data": {
      "image/png": "[encoded data removed]",
      "text/plain": [
       "<Figure size 1500x1500 with 5 Axes>"
      ]
     },
     "metadata": {},
     "output_type": "display_data"
    }
   ],
   "source": [
    "# MNIST max_pool layer\n",
    "# conv2d image : (1, 14, 14, 5)\n",
    "# ksize : (1,2,2,1), strides :(1,2,2,1), padding='SAME'\n",
    "# 출력 이미지 : (14+1 - 2)/2 + 1 = 7\n",
    "# (1, 14, 14, 5) --> (1, 7, 7, 5)\n",
    "\n",
    "pool = tf.nn.max_pool(conv2d,ksize=[1,2,2,1],strides=[1,2,2,1],padding='SAME')\n",
    "\n",
    "pool_img = pool.numpy()\n",
    "print(pool_img.shape)   # (1, 7, 7, 5)\n",
    "\n",
    "# 시각화\n",
    "pool_image = np.swapaxes(pool_img,0,3) # 0번 축과 3번 축이 서로 맞바꾸어짐\n",
    "# print(pool_image)\n",
    "print(pool_image.shape) # (5, 7, 7, 1)\n",
    "\n",
    "plt.figure(figsize=(15,15))\n",
    "for i,one_image in enumerate(pool_image):\n",
    "    #print(one_image)\n",
    "    plt.subplot(1,5,i + 1)\n",
    "    plt.imshow(one_image.reshape(7,7),cmap='Greys')\n",
    "plt.show() "
   ]
  }
 ],
 "metadata": {
  "kernelspec": {
   "display_name": "Python 3 (ipykernel)",
   "language": "python",
   "name": "python3"
  },
  "language_info": {
   "codemirror_mode": {
    "name": "ipython",
    "version": 3
   },
   "file_extension": ".py",
   "mimetype": "text/x-python",
   "name": "python",
   "nbconvert_exporter": "python",
   "pygments_lexer": "ipython3",
   "version": "3.10.6"
  }
 },
 "nbformat": 4,
 "nbformat_minor": 5
}
