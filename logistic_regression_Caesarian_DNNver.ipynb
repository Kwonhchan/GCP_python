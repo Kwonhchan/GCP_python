{
 "cells": [
  {
   "cell_type": "code",
   "execution_count": 1,
   "id": "8ee57ca2-de00-44bf-85eb-375a94f0ad14",
   "metadata": {},
   "outputs": [],
   "source": [
    "import tensorflow as tf\n",
    "import numpy as np\n",
    "tf.random.set_seed(42)"
   ]
  },
  {
   "cell_type": "code",
   "execution_count": 2,
   "id": "f03373a8-8a1f-4e91-8fbe-b71452bdd750",
   "metadata": {},
   "outputs": [
    {
     "name": "stdout",
     "output_type": "stream",
     "text": [
      "(80, 6)\n"
     ]
    }
   ],
   "source": [
    "xy = np.loadtxt(\"caesarian.csv\",delimiter=',',dtype=np.float32)\n",
    "print(xy.shape)\n",
    "#56:24"
   ]
  },
  {
   "cell_type": "code",
   "execution_count": 3,
   "id": "f50d5868-9486-4b18-a004-0bf4cd98267b",
   "metadata": {},
   "outputs": [],
   "source": [
    "x_train = xy[:56,:-1]\n",
    "y_train = xy[:56,[-1]]\n",
    "x_test = xy[56:,:-1]\n",
    "y_test = xy[56:,[-1]]"
   ]
  },
  {
   "cell_type": "code",
   "execution_count": 4,
   "id": "dd85bf84-6478-45dc-8f53-8c3ccfbada2d",
   "metadata": {},
   "outputs": [
    {
     "name": "stdout",
     "output_type": "stream",
     "text": [
      "(56, 5) (56, 1)\n",
      "(24, 5) (24, 1)\n"
     ]
    }
   ],
   "source": [
    "print(x_train.shape, y_train.shape)\n",
    "print(x_test.shape, y_test.shape)"
   ]
  },
  {
   "cell_type": "code",
   "execution_count": 5,
   "id": "71348e6c-b11c-4228-8bfe-770aa321efb1",
   "metadata": {},
   "outputs": [],
   "source": [
    "# Layer  1\n",
    "# 56 5 * 5 3 = 56 3\n",
    "W1 = tf.Variable(tf.random.normal([5,3]), name='weight1')\n",
    "b1 = tf.Variable(tf.random.normal([3]), name='bias1')\n",
    "\n",
    "def layer1(X):\n",
    "    return  tf.nn.relu(tf.matmul(X,W1) + b1 )"
   ]
  },
  {
   "cell_type": "code",
   "execution_count": 6,
   "id": "e284c6ea-4034-46c6-af9b-1bc307fccfb6",
   "metadata": {},
   "outputs": [],
   "source": [
    "# layer 2\n",
    "# 56 3 * 3 2 = 56 2\n",
    "W2 = tf.Variable(tf.random.normal([3,2]), name='weight2')\n",
    "b2 = tf.Variable(tf.random.normal([2]), name='bias2')\n",
    "\n",
    "def layer2(X):\n",
    "    return  tf.nn.relu(tf.matmul(layer1(X),W2) + b2 )"
   ]
  },
  {
   "cell_type": "code",
   "execution_count": 7,
   "id": "ddd2f6cf-242b-48c5-b253-7b3838001caa",
   "metadata": {},
   "outputs": [],
   "source": [
    "# layer 3\n",
    "# 56 2 * 2 1 = 56 1\n",
    "W3 = tf.Variable(tf.random.normal([2,1]), name='weight3')\n",
    "b3 = tf.Variable(tf.random.normal([1]), name='bias3')"
   ]
  },
  {
   "cell_type": "code",
   "execution_count": 8,
   "id": "9b44f99f-d767-4bff-b622-c97f9961b55f",
   "metadata": {},
   "outputs": [],
   "source": [
    "def hypothesis(X):\n",
    "    return tf.sigmoid(tf.matmul(layer2(X),W3) + b3)"
   ]
  },
  {
   "cell_type": "code",
   "execution_count": 9,
   "id": "8fc3e6c8-e4fe-4da6-83df-124573964f2d",
   "metadata": {},
   "outputs": [],
   "source": [
    "# 비용 함수 : logloss, 2진 분류 모델 / 평균오차를 구해야 함으로 reduce_mean을 사용\n",
    "def cost_func():\n",
    "    cost = -tf.reduce_mean(y_train*tf.math.log(hypothesis(x_train)) +\n",
    "                         (1-y_train)*tf.math.log(1-hypothesis(x_train)))\n",
    "    return cost"
   ]
  },
  {
   "cell_type": "code",
   "execution_count": 10,
   "id": "a4c5a030-106c-4816-8914-4e456d3e2c06",
   "metadata": {},
   "outputs": [],
   "source": [
    "optimizer = tf.keras.optimizers.Adam(learning_rate=0.01)"
   ]
  },
  {
   "cell_type": "code",
   "execution_count": 11,
   "id": "4a9cbe73-101b-4ce3-a134-00934c54eb13",
   "metadata": {},
   "outputs": [
    {
     "name": "stdout",
     "output_type": "stream",
     "text": [
      "***** Start Learning!!\n",
      "0000 cost: [ 0.69190615 ]\n",
      "1000 cost: [ 0.5194598 ]\n",
      "2000 cost: [ 0.5194598 ]\n",
      "3000 cost: [ 0.5194597 ]\n",
      "4000 cost: [ 0.5194598 ]\n",
      "5000 cost: [ 0.5194597 ]\n",
      "6000 cost: [ 0.5194598 ]\n",
      "7000 cost: [ 0.5194598 ]\n",
      "8000 cost: [ 0.5194598 ]\n",
      "9000 cost: [ 0.51945966 ]\n",
      "***** Learning Finished!!\n"
     ]
    }
   ],
   "source": [
    "# 학습 시작\n",
    "print('***** Start Learning!!')\n",
    "for step in range(10000):\n",
    "    optimizer.minimize(cost_func,var_list=[W1,b1,W2,b2,W3,b3])\n",
    "    if step % 1000 == 0:\n",
    "        print('%04d'%step, 'cost: [', cost_func().numpy(),']')\n",
    "print('***** Learning Finished!!')"
   ]
  },
  {
   "cell_type": "code",
   "execution_count": 13,
   "id": "6dafbaa1-698e-4950-940e-5ecdda2f7665",
   "metadata": {},
   "outputs": [
    {
     "name": "stdout",
     "output_type": "stream",
     "text": [
      "Weight = [[ 0.37771845 -0.8426258   0.20363788]\n",
      " [-1.346037   -2.3880599  -1.1067249 ]\n",
      " [ 0.74177027  0.539707    0.3444678 ]\n",
      " [ 0.20417438 -1.5066116  -0.20505203]\n",
      " [ 1.562173   -1.9171132  -2.876498  ]]\n",
      "Bias = [-0.48586932 -0.86090374  0.91013443]\n"
     ]
    }
   ],
   "source": [
    "# 회귀 계수 출력\n",
    "print('Weight =', W1.numpy())\n",
    "print('Bias =', b1.numpy()) "
   ]
  },
  {
   "cell_type": "code",
   "execution_count": 14,
   "id": "cc12ccbf-611a-46fe-be01-c593ae152466",
   "metadata": {},
   "outputs": [
    {
     "name": "stdout",
     "output_type": "stream",
     "text": [
      "Accuracy: 0.5\n"
     ]
    }
   ],
   "source": [
    "# 정확도 측정 : accuracy computation\n",
    "def predict(X):\n",
    "    return tf.cast(hypothesis(X) > 0.5,dtype=tf.float32)\n",
    "\n",
    "# 검증 데이터를 사용하여 예측 (70%:30%)\n",
    "preds = predict(x_test)\n",
    "accuracy = tf.reduce_mean(tf.cast(tf.equal(preds,y_test),dtype=tf.float32))\n",
    "\n",
    "print('Accuracy:',accuracy.numpy()) # Accuracy: 0.5"
   ]
  }
 ],
 "metadata": {
  "kernelspec": {
   "display_name": "Python 3 (ipykernel)",
   "language": "python",
   "name": "python3"
  },
  "language_info": {
   "codemirror_mode": {
    "name": "ipython",
    "version": 3
   },
   "file_extension": ".py",
   "mimetype": "text/x-python",
   "name": "python",
   "nbconvert_exporter": "python",
   "pygments_lexer": "ipython3",
   "version": "3.10.6"
  }
 },
 "nbformat": 4,
 "nbformat_minor": 5
}
