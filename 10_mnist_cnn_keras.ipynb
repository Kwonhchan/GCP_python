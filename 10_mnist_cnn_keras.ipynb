{
 "cells": [
  {
   "cell_type": "code",
   "execution_count": 1,
   "id": "244c6102-4023-4d5c-bc6a-6c51f2dd231f",
   "metadata": {},
   "outputs": [],
   "source": [
    "# mnist_cnn_keras"
   ]
  },
  {
   "cell_type": "code",
   "execution_count": 1,
   "id": "00a9a46b-b345-4ccf-851b-e8f12812d8fc",
   "metadata": {},
   "outputs": [],
   "source": [
    "import tensorflow as tf\n",
    "import numpy as np\n",
    "import matplotlib.pyplot as plt"
   ]
  },
  {
   "cell_type": "code",
   "execution_count": 2,
   "id": "a25b88c7-1218-41fe-8785-256b5dece3fc",
   "metadata": {},
   "outputs": [],
   "source": [
    "mnist = tf.keras.datasets.mnist\n",
    "(x_train,y_train),(x_test,y_test) = mnist.load_data()"
   ]
  },
  {
   "cell_type": "code",
   "execution_count": 3,
   "id": "392df58b-2073-4cec-a6b1-f8bf2025f2e6",
   "metadata": {},
   "outputs": [
    {
     "name": "stdout",
     "output_type": "stream",
     "text": [
      "(60000, 28, 28) (60000,)\n",
      "(10000, 28, 28) (10000,)\n"
     ]
    }
   ],
   "source": [
    "print(x_train.shape, y_train.shape)\n",
    "print(x_test.shape, y_test.shape)"
   ]
  },
  {
   "cell_type": "code",
   "execution_count": 4,
   "id": "ebd51ced-54b5-48a1-b6dd-68dcb752fdbe",
   "metadata": {},
   "outputs": [
    {
     "data": {
      "text/plain": [
       "TensorShape([60000, 10])"
      ]
     },
     "execution_count": 4,
     "metadata": {},
     "output_type": "execute_result"
    }
   ],
   "source": [
    "# one-hot 인코딩\n",
    "nb_classes = 10 # 분류 class의 개수\n",
    "\n",
    "Y_one_hot = tf.one_hot(y_train, nb_classes) # (60000,)\n",
    "Y_one_hot.shape "
   ]
  },
  {
   "cell_type": "code",
   "execution_count": 5,
   "id": "de21d7ec-debc-4e0c-b094-32c99163d3aa",
   "metadata": {},
   "outputs": [
    {
     "name": "stdout",
     "output_type": "stream",
     "text": [
      "(60000, 28, 28)\n"
     ]
    }
   ],
   "source": [
    "# x를 실수형으로 변환\n",
    "x_train = tf.cast(x_train,dtype=tf.float32)\n",
    "x_test = tf.cast(x_test,dtype=tf.float32)\n",
    "print(x_train.shape)"
   ]
  },
  {
   "cell_type": "code",
   "execution_count": 6,
   "id": "b0c19167-1a52-48fa-85c9-b5c0e575dbcd",
   "metadata": {},
   "outputs": [
    {
     "name": "stdout",
     "output_type": "stream",
     "text": [
      "(60000, 28, 28, 1)\n",
      "(10000, 28, 28, 1)\n",
      "(60000,)\n"
     ]
    }
   ],
   "source": [
    "# x의 shape을 4차원으로 변환\n",
    "x_train = tf.reshape(x_train,[-1,28,28,1])\n",
    "print(x_train.shape) # (60000, 28, 28, 1)\n",
    "x_test = tf.reshape(x_test,[-1,28,28,1])\n",
    "print(x_test.shape) # (10000, 28, 28, 1)\n",
    "print(y_train.shape)"
   ]
  },
  {
   "cell_type": "code",
   "execution_count": 8,
   "id": "a472e641-9cb4-430e-a62e-7e6874e77720",
   "metadata": {},
   "outputs": [
    {
     "name": "stdout",
     "output_type": "stream",
     "text": [
      "Model: \"sequential\"\n",
      "_________________________________________________________________\n",
      " Layer (type)                Output Shape              Param #   \n",
      "=================================================================\n",
      " conv2d (Conv2D)             (None, 28, 28, 32)        320       \n",
      "                                                                 \n",
      " max_pooling2d (MaxPooling2D  (None, 14, 14, 32)       0         \n",
      " )                                                               \n",
      "                                                                 \n",
      " conv2d_1 (Conv2D)           (None, 14, 14, 64)        18496     \n",
      "                                                                 \n",
      " max_pooling2d_1 (MaxPooling  (None, 7, 7, 64)         0         \n",
      " 2D)                                                             \n",
      "                                                                 \n",
      " conv2d_2 (Conv2D)           (None, 7, 7, 128)         73856     \n",
      "                                                                 \n",
      " max_pooling2d_2 (MaxPooling  (None, 4, 4, 128)        0         \n",
      " 2D)                                                             \n",
      "                                                                 \n",
      " flatten (Flatten)           (None, 2048)              0         \n",
      "                                                                 \n",
      " dense (Dense)               (None, 10)                20490     \n",
      "                                                                 \n",
      "=================================================================\n",
      "Total params: 113,162\n",
      "Trainable params: 113,162\n",
      "Non-trainable params: 0\n",
      "_________________________________________________________________\n"
     ]
    }
   ],
   "source": [
    "model = tf.keras.Sequential(\n",
    "    [\n",
    "        tf.keras.layers.Conv2D(filters=32, kernel_size=(3,3),padding=\"same\",activation='relu',\n",
    "                               input_shape=(28, 28, 1)),\n",
    "        tf.keras.layers.MaxPool2D(pool_size=(2,2),strides=(2,2),padding='same'),\n",
    "        tf.keras.layers.Conv2D(filters=64, kernel_size=(3,3),padding=\"same\",activation='relu',\n",
    "                               input_shape=(28, 28, 1)),\n",
    "        tf.keras.layers.MaxPool2D(pool_size=(2,2),strides=(2,2),padding='same'),\n",
    "        tf.keras.layers.Conv2D(filters=128, kernel_size=(3,3),padding=\"same\",activation='relu',\n",
    "                               input_shape=(28, 28, 1)),\n",
    "        tf.keras.layers.MaxPool2D(pool_size=(2,2),strides=(2,2),padding='same'),\n",
    "        tf.keras.layers.Flatten(),\n",
    "        tf.keras.layers.Dense(units=10, activation='softmax')\n",
    "    ]\n",
    ")\n",
    "\n",
    "model.summary()"
   ]
  },
  {
   "cell_type": "code",
   "execution_count": 9,
   "id": "293dda66-c69f-4cb4-878e-ac79f43e467e",
   "metadata": {},
   "outputs": [],
   "source": [
    "# https://yeomko.tistory.com/40\n",
    "# Xavier Glorot Initialization : W(Weight) 값을 fan_in,fan_out를 사용하여 초기화하여 정확도 향상\n",
    "\n",
    "# loss 종류\n",
    "# mean_squared_error : 평균제곱 오차\n",
    "# binary_crossentropy : 이진분류 오차\n",
    "# categorical_crossentropy : 다중 분류 오차. one-hot encoding 클래스, [0.2, 0.3, 0.5] 와 같은 출력값과 실측값의 오차값을 계산한다.\n",
    "# sparse_categorical_crossentropy: 다중 분류 오차. 위와 동일하지만 , integer type 클래스라는 것이 다르다.\n",
    "\n",
    "model.compile(optimizer=tf.keras.optimizers.Adam(),\n",
    "              loss = \"sparse_categorical_crossentropy\",\n",
    "              metrics=['accuracy'])"
   ]
  },
  {
   "cell_type": "code",
   "execution_count": 10,
   "id": "03edb51c-c9f9-4d08-97b5-13ae24b7021b",
   "metadata": {
    "scrolled": true
   },
   "outputs": [
    {
     "name": "stdout",
     "output_type": "stream",
     "text": [
      "Epoch 1/25\n",
      "1407/1407 [==============================] - 17s 12ms/step - loss: 0.2555 - accuracy: 0.9512 - val_loss: 0.0753 - val_accuracy: 0.9777\n",
      "Epoch 2/25\n",
      "1407/1407 [==============================] - 17s 12ms/step - loss: 0.0579 - accuracy: 0.9821 - val_loss: 0.0735 - val_accuracy: 0.9785\n",
      "Epoch 3/25\n",
      "1407/1407 [==============================] - 17s 12ms/step - loss: 0.0455 - accuracy: 0.9860 - val_loss: 0.0799 - val_accuracy: 0.9761\n",
      "Epoch 4/25\n",
      "1407/1407 [==============================] - 17s 12ms/step - loss: 0.0413 - accuracy: 0.9870 - val_loss: 0.0612 - val_accuracy: 0.9826\n",
      "Epoch 5/25\n",
      "1407/1407 [==============================] - 17s 12ms/step - loss: 0.0331 - accuracy: 0.9898 - val_loss: 0.0635 - val_accuracy: 0.9857\n",
      "Epoch 6/25\n",
      "1407/1407 [==============================] - 17s 12ms/step - loss: 0.0305 - accuracy: 0.9910 - val_loss: 0.0591 - val_accuracy: 0.9850\n",
      "Epoch 7/25\n",
      "1407/1407 [==============================] - 17s 12ms/step - loss: 0.0316 - accuracy: 0.9910 - val_loss: 0.0941 - val_accuracy: 0.9804\n",
      "Epoch 8/25\n",
      "1407/1407 [==============================] - 17s 12ms/step - loss: 0.0259 - accuracy: 0.9926 - val_loss: 0.0756 - val_accuracy: 0.9831\n",
      "Epoch 9/25\n",
      "1407/1407 [==============================] - 17s 12ms/step - loss: 0.0293 - accuracy: 0.9918 - val_loss: 0.1233 - val_accuracy: 0.9818\n",
      "Epoch 10/25\n",
      "1407/1407 [==============================] - 17s 12ms/step - loss: 0.0261 - accuracy: 0.9932 - val_loss: 0.0927 - val_accuracy: 0.9822\n",
      "Epoch 11/25\n",
      "1407/1407 [==============================] - 17s 12ms/step - loss: 0.0262 - accuracy: 0.9935 - val_loss: 0.0883 - val_accuracy: 0.9845\n",
      "Epoch 12/25\n",
      "1407/1407 [==============================] - 17s 12ms/step - loss: 0.0236 - accuracy: 0.9943 - val_loss: 0.1087 - val_accuracy: 0.9815\n",
      "Epoch 13/25\n",
      "1407/1407 [==============================] - 17s 12ms/step - loss: 0.0217 - accuracy: 0.9948 - val_loss: 0.1319 - val_accuracy: 0.9835\n",
      "Epoch 14/25\n",
      "1407/1407 [==============================] - 17s 12ms/step - loss: 0.0235 - accuracy: 0.9948 - val_loss: 0.1146 - val_accuracy: 0.9839\n",
      "Epoch 15/25\n",
      "1407/1407 [==============================] - 17s 12ms/step - loss: 0.0253 - accuracy: 0.9943 - val_loss: 0.2371 - val_accuracy: 0.9737\n",
      "Epoch 16/25\n",
      "1407/1407 [==============================] - 17s 12ms/step - loss: 0.0237 - accuracy: 0.9945 - val_loss: 0.1546 - val_accuracy: 0.9814\n",
      "Epoch 17/25\n",
      "1407/1407 [==============================] - 17s 12ms/step - loss: 0.0244 - accuracy: 0.9946 - val_loss: 0.1359 - val_accuracy: 0.9869\n",
      "Epoch 18/25\n",
      "1407/1407 [==============================] - 17s 12ms/step - loss: 0.0261 - accuracy: 0.9948 - val_loss: 0.1279 - val_accuracy: 0.9861\n",
      "Epoch 19/25\n",
      "1407/1407 [==============================] - 16s 12ms/step - loss: 0.0342 - accuracy: 0.9946 - val_loss: 0.1457 - val_accuracy: 0.9850\n",
      "Epoch 20/25\n",
      "1407/1407 [==============================] - 16s 12ms/step - loss: 0.0269 - accuracy: 0.9958 - val_loss: 0.1581 - val_accuracy: 0.9849\n",
      "Epoch 21/25\n",
      "1407/1407 [==============================] - 16s 12ms/step - loss: 0.0237 - accuracy: 0.9960 - val_loss: 0.2227 - val_accuracy: 0.9829\n",
      "Epoch 22/25\n",
      "1407/1407 [==============================] - 17s 12ms/step - loss: 0.0382 - accuracy: 0.9951 - val_loss: 0.1701 - val_accuracy: 0.9867\n",
      "Epoch 23/25\n",
      "1407/1407 [==============================] - 17s 12ms/step - loss: 0.0283 - accuracy: 0.9960 - val_loss: 0.2036 - val_accuracy: 0.9861\n",
      "Epoch 24/25\n",
      "1407/1407 [==============================] - 16s 12ms/step - loss: 0.0195 - accuracy: 0.9966 - val_loss: 0.2141 - val_accuracy: 0.9844\n",
      "Epoch 25/25\n",
      "1407/1407 [==============================] - 17s 12ms/step - loss: 0.0326 - accuracy: 0.9959 - val_loss: 0.3014 - val_accuracy: 0.9811\n"
     ]
    },
    {
     "data": {
      "text/plain": [
       "<keras.callbacks.History at 0x1ac55d13af0>"
      ]
     },
     "execution_count": 10,
     "metadata": {},
     "output_type": "execute_result"
    }
   ],
   "source": [
    "# 학습\n",
    "model.fit(x_train,y_train,epochs=25,batch_size=32,validation_split=0.25)"
   ]
  },
  {
   "cell_type": "code",
   "execution_count": 11,
   "id": "2b5f3c0f-e8f0-49f9-9bda-04cc995d4e94",
   "metadata": {},
   "outputs": [
    {
     "name": "stdout",
     "output_type": "stream",
     "text": [
      "313/313 [==============================] - 1s 4ms/step - loss: 0.2305 - accuracy: 0.9849\n"
     ]
    },
    {
     "data": {
      "text/plain": [
       "[0.23053781688213348, 0.9848999977111816]"
      ]
     },
     "execution_count": 11,
     "metadata": {},
     "output_type": "execute_result"
    }
   ],
   "source": [
    "model.evaluate(x_test,y_test)"
   ]
  },
  {
   "cell_type": "code",
   "execution_count": 13,
   "id": "d04f7623-69d9-4776-b8c9-d2841f25f442",
   "metadata": {},
   "outputs": [
    {
     "name": "stdout",
     "output_type": "stream",
     "text": [
      "1/1 [==============================] - 0s 17ms/step\n",
      "[7 2 1 0 4 1 4 9 5 9]\n",
      "[7 2 1 0 4 1 4 9 5 9]\n"
     ]
    }
   ],
   "source": [
    "preds = model.predict(x_test[:10])\n",
    "print(tf.argmax(preds,axis=1).numpy())\n",
    "print(y_test[:10])"
   ]
  },
  {
   "cell_type": "code",
   "execution_count": 7,
   "id": "dbde64e8-7b22-4b05-bcbe-228e3862924f",
   "metadata": {},
   "outputs": [
    {
     "name": "stdout",
     "output_type": "stream",
     "text": [
      "Model: \"sequential\"\n",
      "_________________________________________________________________\n",
      " Layer (type)                Output Shape              Param #   \n",
      "=================================================================\n",
      " conv2d (Conv2D)             (None, 28, 28, 32)        320       \n",
      "                                                                 \n",
      " conv2d_1 (Conv2D)           (None, 28, 28, 64)        18496     \n",
      "                                                                 \n",
      " max_pooling2d (MaxPooling2D  (None, 14, 14, 64)       0         \n",
      " )                                                               \n",
      "                                                                 \n",
      " dropout (Dropout)           (None, 14, 14, 64)        0         \n",
      "                                                                 \n",
      " conv2d_2 (Conv2D)           (None, 14, 14, 128)       73856     \n",
      "                                                                 \n",
      " conv2d_3 (Conv2D)           (None, 14, 14, 256)       295168    \n",
      "                                                                 \n",
      " max_pooling2d_1 (MaxPooling  (None, 7, 7, 256)        0         \n",
      " 2D)                                                             \n",
      "                                                                 \n",
      " dropout_1 (Dropout)         (None, 7, 7, 256)         0         \n",
      "                                                                 \n",
      " flatten (Flatten)           (None, 12544)             0         \n",
      "                                                                 \n",
      " dense (Dense)               (None, 512)               6423040   \n",
      "                                                                 \n",
      " dropout_2 (Dropout)         (None, 512)               0         \n",
      "                                                                 \n",
      " dense_1 (Dense)             (None, 256)               131328    \n",
      "                                                                 \n",
      " dropout_3 (Dropout)         (None, 256)               0         \n",
      "                                                                 \n",
      " dense_2 (Dense)             (None, 10)                2570      \n",
      "                                                                 \n",
      "=================================================================\n",
      "Total params: 6,944,778\n",
      "Trainable params: 6,944,778\n",
      "Non-trainable params: 0\n",
      "_________________________________________________________________\n"
     ]
    }
   ],
   "source": [
    "### VGGNet (VGG-19) 스타일의 MNIST 분류 CNN 모델 \n",
    "#--------------------------------------------\n",
    "# ( Conv2D * 2개  --> MaxPool2D ) * 2회 : 4층\n",
    "# ( Conv2D * 4개  --> MaxPool2D ) * 3회 : 12층\n",
    "# Dense * 3개                           : 3층\n",
    "#--------------------------------------------\n",
    "#                                     총 19층\n",
    "#--------------------------------------------\n",
    "# 각 네트워크마다 필터의 수를 2배로 증가 시킨다 : 32-->64-->128-->256-->512\n",
    "\n",
    "model = tf.keras.Sequential([\n",
    "    tf.keras.layers.Conv2D(filters=32, kernel_size=(3,3),padding='same',\n",
    "                           activation='relu',input_shape=(28,28,1)),\n",
    "    tf.keras.layers.Conv2D(filters=64, kernel_size=(3,3),padding='same',\n",
    "                           activation='relu'),\n",
    "    tf.keras.layers.MaxPool2D(pool_size=(2,2)),\n",
    "    tf.keras.layers.Dropout(rate=0.5),\n",
    "    tf.keras.layers.Conv2D(filters=128, kernel_size=(3,3),padding='same',\n",
    "                           activation='relu'),\n",
    "    tf.keras.layers.Conv2D(filters=256, kernel_size=(3,3),padding='same',\n",
    "                           activation='relu'),\n",
    "    tf.keras.layers.MaxPool2D(pool_size=(2,2)),\n",
    "    tf.keras.layers.Dropout(rate=0.5),\n",
    "    tf.keras.layers.Flatten(),\n",
    "    tf.keras.layers.Dense(units=512, activation='relu'),\n",
    "    tf.keras.layers.Dropout(rate=0.5),\n",
    "    tf.keras.layers.Dense(units=256, activation='relu'),\n",
    "    tf.keras.layers.Dropout(rate=0.5),\n",
    "    tf.keras.layers.Dense(units=10, activation='softmax')\n",
    "])\n",
    "\n",
    "model.summary()\n",
    "\n",
    "model.compile(optimizer=tf.keras.optimizers.Adam(),\n",
    "              loss = \"sparse_categorical_crossentropy\",\n",
    "              metrics=['accuracy'])\n",
    "    "
   ]
  },
  {
   "cell_type": "code",
   "execution_count": 8,
   "id": "22fb3988-0d3e-49b4-b607-abbd779efae1",
   "metadata": {},
   "outputs": [
    {
     "name": "stdout",
     "output_type": "stream",
     "text": [
      "Epoch 1/25\n",
      "1407/1407 [==============================] - 92s 65ms/step - loss: 0.6266 - accuracy: 0.8393 - val_loss: 0.1033 - val_accuracy: 0.9685\n",
      "Epoch 2/25\n",
      "1407/1407 [==============================] - 91s 65ms/step - loss: 0.1754 - accuracy: 0.9517 - val_loss: 0.0515 - val_accuracy: 0.9854\n",
      "Epoch 3/25\n",
      "1407/1407 [==============================] - 92s 65ms/step - loss: 0.1410 - accuracy: 0.9620 - val_loss: 0.0826 - val_accuracy: 0.9767\n",
      "Epoch 4/25\n",
      "1407/1407 [==============================] - 91s 65ms/step - loss: 0.1260 - accuracy: 0.9660 - val_loss: 0.0521 - val_accuracy: 0.9866\n",
      "Epoch 5/25\n",
      "1407/1407 [==============================] - 93s 66ms/step - loss: 0.1119 - accuracy: 0.9704 - val_loss: 0.0559 - val_accuracy: 0.9838\n",
      "Epoch 6/25\n",
      "1407/1407 [==============================] - 92s 66ms/step - loss: 0.1061 - accuracy: 0.9722 - val_loss: 0.0507 - val_accuracy: 0.9863\n",
      "Epoch 7/25\n",
      "1407/1407 [==============================] - 93s 66ms/step - loss: 0.1035 - accuracy: 0.9725 - val_loss: 0.0474 - val_accuracy: 0.9875\n",
      "Epoch 8/25\n",
      "1407/1407 [==============================] - 93s 66ms/step - loss: 0.0950 - accuracy: 0.9748 - val_loss: 0.0403 - val_accuracy: 0.9893\n",
      "Epoch 9/25\n",
      "1407/1407 [==============================] - 93s 66ms/step - loss: 0.0963 - accuracy: 0.9754 - val_loss: 0.0439 - val_accuracy: 0.9888\n",
      "Epoch 10/25\n",
      "1407/1407 [==============================] - 93s 66ms/step - loss: 0.0964 - accuracy: 0.9756 - val_loss: 0.0396 - val_accuracy: 0.9893\n",
      "Epoch 11/25\n",
      "1407/1407 [==============================] - 93s 66ms/step - loss: 0.0994 - accuracy: 0.9755 - val_loss: 0.0395 - val_accuracy: 0.9898\n",
      "Epoch 12/25\n",
      "1407/1407 [==============================] - 93s 66ms/step - loss: 0.0879 - accuracy: 0.9777 - val_loss: 0.0389 - val_accuracy: 0.9896\n",
      "Epoch 13/25\n",
      "1407/1407 [==============================] - 93s 66ms/step - loss: 0.0896 - accuracy: 0.9776 - val_loss: 0.0356 - val_accuracy: 0.9915\n",
      "Epoch 14/25\n",
      "1407/1407 [==============================] - 93s 66ms/step - loss: 0.0907 - accuracy: 0.9774 - val_loss: 0.0376 - val_accuracy: 0.9909\n",
      "Epoch 15/25\n",
      "1407/1407 [==============================] - 93s 66ms/step - loss: 0.0889 - accuracy: 0.9781 - val_loss: 0.0349 - val_accuracy: 0.9920\n",
      "Epoch 16/25\n",
      "1407/1407 [==============================] - 93s 66ms/step - loss: 0.0820 - accuracy: 0.9793 - val_loss: 0.0406 - val_accuracy: 0.9903\n",
      "Epoch 17/25\n",
      "1407/1407 [==============================] - 93s 66ms/step - loss: 0.0850 - accuracy: 0.9786 - val_loss: 0.0404 - val_accuracy: 0.9900\n",
      "Epoch 18/25\n",
      "1407/1407 [==============================] - 93s 66ms/step - loss: 0.0881 - accuracy: 0.9783 - val_loss: 0.0394 - val_accuracy: 0.9915\n",
      "Epoch 19/25\n",
      "1407/1407 [==============================] - 93s 66ms/step - loss: 0.0864 - accuracy: 0.9791 - val_loss: 0.0450 - val_accuracy: 0.9894\n",
      "Epoch 20/25\n",
      "1407/1407 [==============================] - 93s 66ms/step - loss: 0.0778 - accuracy: 0.9810 - val_loss: 0.0369 - val_accuracy: 0.9912\n",
      "Epoch 21/25\n",
      "1407/1407 [==============================] - 93s 66ms/step - loss: 0.0859 - accuracy: 0.9784 - val_loss: 0.0398 - val_accuracy: 0.9909\n",
      "Epoch 22/25\n",
      "1407/1407 [==============================] - 94s 66ms/step - loss: 0.0769 - accuracy: 0.9807 - val_loss: 0.0423 - val_accuracy: 0.9895\n",
      "Epoch 23/25\n",
      "1407/1407 [==============================] - 93s 66ms/step - loss: 0.0852 - accuracy: 0.9791 - val_loss: 0.0376 - val_accuracy: 0.9908\n",
      "Epoch 24/25\n",
      "1407/1407 [==============================] - 93s 66ms/step - loss: 0.0790 - accuracy: 0.9799 - val_loss: 0.0374 - val_accuracy: 0.9907\n",
      "Epoch 25/25\n",
      "1407/1407 [==============================] - 93s 66ms/step - loss: 0.0833 - accuracy: 0.9793 - val_loss: 0.0380 - val_accuracy: 0.9905\n"
     ]
    },
    {
     "data": {
      "text/plain": [
       "<keras.callbacks.History at 0x1d8ea051d50>"
      ]
     },
     "execution_count": 8,
     "metadata": {},
     "output_type": "execute_result"
    }
   ],
   "source": [
    "# 학습\n",
    "model.fit(x_train,y_train,epochs=25,batch_size=32,validation_split=0.25)"
   ]
  },
  {
   "cell_type": "code",
   "execution_count": null,
   "id": "635b4852-5e2e-4352-9746-facdb687276e",
   "metadata": {},
   "outputs": [],
   "source": []
  }
 ],
 "metadata": {
  "kernelspec": {
   "display_name": "Python 3 (ipykernel)",
   "language": "python",
   "name": "python3"
  },
  "language_info": {
   "codemirror_mode": {
    "name": "ipython",
    "version": 3
   },
   "file_extension": ".py",
   "mimetype": "text/x-python",
   "name": "python",
   "nbconvert_exporter": "python",
   "pygments_lexer": "ipython3",
   "version": "3.10.6"
  }
 },
 "nbformat": 4,
 "nbformat_minor": 5
}
