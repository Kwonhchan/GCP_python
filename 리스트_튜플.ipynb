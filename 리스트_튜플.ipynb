{
 "cells": [
  {
   "cell_type": "code",
   "execution_count": 7,
   "id": "20a39bd9-5452-4b04-a3c0-ec35819e3e91",
   "metadata": {},
   "outputs": [
    {
     "name": "stdout",
     "output_type": "stream",
     "text": [
      "b'AB'\n"
     ]
    }
   ],
   "source": [
    "k = b'\\x41'\n",
    "j = b'\\x42'\n",
    "print(k+j)"
   ]
  },
  {
   "cell_type": "code",
   "execution_count": 9,
   "id": "5057b882-764c-4628-8770-5028812dbbf4",
   "metadata": {},
   "outputs": [
    {
     "name": "stdout",
     "output_type": "stream",
     "text": [
      "[0, 10, 20, 30, 40, 50, 60, 70, 80, 90]\n",
      "10\n"
     ]
    }
   ],
   "source": [
    "a = [k*10 for k in range (10)]\n",
    "print(a)\n",
    "print(len(a))"
   ]
  },
  {
   "cell_type": "code",
   "execution_count": 13,
   "id": "e41648a1-08ec-41bf-84cd-2d88be434d0b",
   "metadata": {},
   "outputs": [
    {
     "name": "stdout",
     "output_type": "stream",
     "text": [
      "<class 'tuple'>\n",
      "<class 'int'>\n",
      "<class 'str'>\n"
     ]
    }
   ],
   "source": [
    "t = 1, 2, 'hi' #튜플, 패킹\n",
    "print(type(t))\n",
    "x,y,z = t  #언패킹\n",
    "print(type(x))\n",
    "print(type(z))"
   ]
  },
  {
   "cell_type": "code",
   "execution_count": null,
   "id": "5020db6d-8c2b-4d6d-895f-3fac050e763a",
   "metadata": {},
   "outputs": [],
   "source": [
    "a, b, c = 10, 20, 'hi' # 언패킹"
   ]
  }
 ],
 "metadata": {
  "kernelspec": {
   "display_name": "Python 3 (ipykernel)",
   "language": "python",
   "name": "python3"
  },
  "language_info": {
   "codemirror_mode": {
    "name": "ipython",
    "version": 3
   },
   "file_extension": ".py",
   "mimetype": "text/x-python",
   "name": "python",
   "nbconvert_exporter": "python",
   "pygments_lexer": "ipython3",
   "version": "3.11.7"
  }
 },
 "nbformat": 4,
 "nbformat_minor": 5
}
