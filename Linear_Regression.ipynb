{
 "cells": [
  {
   "cell_type": "markdown",
   "id": "4d7c46a7-8feb-4085-be57-a0f6abed666a",
   "metadata": {},
   "source": [
    "## Linear Regression"
   ]
  },
  {
   "cell_type": "code",
   "execution_count": 1,
   "id": "d7822472-3789-440b-a69a-962ea2f825d1",
   "metadata": {},
   "outputs": [],
   "source": [
    "import tensorflow as tf\n",
    "import numpy as np\n",
    "\n",
    "tf.random.set_seed(42)\n",
    "\n",
    "#학습 데이터 : X와 Y 데이터\n",
    "# x_train = [1., 2., 3., 4., 5.]\n",
    "# y_train = [1.1, 2.2, 3.3, 4.4, 5.5]\n",
    "\n",
    "x_train = [0.3, -0.78, 1.26, 0.03, 1.11, 0.24, -0.24, -0.47, -0.77, -0.37, -0.85, -0.41, -0.27, 0.02, -0.76, 2.66]\n",
    "y_train = [12.27, 14.44, 11.87, 18.75, 17.52, 16.37, 19.78, 19.51, 12.65, 14.74, 10.72, 21.94, 12.83, 15.51, 17.14, 14.]"
   ]
  },
  {
   "cell_type": "code",
   "execution_count": 2,
   "id": "03357d58-7bbb-443f-8d68-c7967cd1a09e",
   "metadata": {},
   "outputs": [
    {
     "name": "stdout",
     "output_type": "stream",
     "text": [
      "<tf.Variable 'weight:0' shape=(1,) dtype=float32, numpy=array([0.3274685], dtype=float32)>\n",
      "<tf.Variable 'bias:0' shape=(1,) dtype=float32, numpy=array([0.08422458], dtype=float32)>\n"
     ]
    }
   ],
   "source": [
    "# 변수 초기화 : weight, bias\n",
    "W = tf.Variable(tf.random.normal([1]), name = 'weight')\n",
    "b = tf.Variable(tf.random.normal([1]), name = 'bias')\n",
    "print(W)\n",
    "print(b)"
   ]
  },
  {
   "cell_type": "code",
   "execution_count": 3,
   "id": "0025d13b-1af5-4a08-94b5-a3986c20f90e",
   "metadata": {},
   "outputs": [],
   "source": [
    "# 예측 함수(hypothesis) : H(x) = W*X + b\n",
    "def hypothesis(X):\n",
    "    return X*W + b"
   ]
  },
  {
   "cell_type": "code",
   "execution_count": 4,
   "id": "9677aef7-1791-49ff-81f7-6fc974402b0d",
   "metadata": {},
   "outputs": [],
   "source": [
    "# 비용 함수(cost function) : (H(x) - y)^2\n",
    "# tf.square() : 제곱\n",
    "# tf.reduce_mean() : 합의 평균\n",
    "def cost_func():\n",
    "    cost = tf.reduce_mean(tf.square(hypothesis(x_train) - y_train))\n",
    "    return cost"
   ]
  },
  {
   "cell_type": "code",
   "execution_count": 5,
   "id": "c8a9f338-2f8f-4c1e-b389-8ba11b58a709",
   "metadata": {},
   "outputs": [],
   "source": [
    "# 경사 하강법\n",
    "# optimizer = tf.compat.v1.train.GradientDescentOptimizer(learning_rate=0.01)\n",
    "#optimizer = tf.compat.v1.train.AdamOptimizer(learning_rate=0.01)\n",
    "optimizer = tf.keras.optimizers.Adam(learning_rate=0.01)"
   ]
  },
  {
   "cell_type": "code",
   "execution_count": 6,
   "id": "5e0882c0-1e60-46ab-a853-1fafe3375759",
   "metadata": {},
   "outputs": [
    {
     "name": "stdout",
     "output_type": "stream",
     "text": [
      "***** Start Learning!!\n",
      "0000 손실 값: [ 251.4335 ]  W: [0.33746812]  b: [0.09422451]\n",
      "0100 손실 값: [ 221.69803 ]  W: [0.33330405]  b: [1.0828676]\n",
      "0200 손실 값: [ 194.7684 ]  W: [0.28257832]  b: [2.0400674]\n",
      "0300 손실 값: [ 170.48701 ]  W: [0.23345487]  b: [2.96489]\n",
      "0400 손실 값: [ 148.67712 ]  W: [0.18608685]  b: [3.857229]\n",
      "0500 손실 값: [ 129.16856 ]  W: [0.14046563]  b: [4.716926]\n",
      "0600 손실 값: [ 111.79736 ]  W: [0.09659458]  b: [5.543779]\n",
      "0700 손실 값: [ 96.40543 ]  W: [0.05448402]  b: [6.337544]\n",
      "0800 손실 값: [ 82.840225 ]  W: [0.01414644]  b: [7.0979447]\n",
      "0900 손실 값: [ 70.95453 ]  W: [-0.0244029]  b: [7.824679]\n",
      "1000 손실 값: [ 60.60634 ]  W: [-0.06114837]  b: [8.51743]\n",
      "1100 손실 값: [ 51.65875 ]  W: [-0.09607299]  b: [9.175881]\n",
      "1200 손실 값: [ 43.980156 ]  W: [-0.12916107]  b: [9.799724]\n",
      "1300 손실 값: [ 37.44409 ]  W: [-0.16039827]  b: [10.388684]\n",
      "1400 손실 값: [ 31.929739 ]  W: [-0.18977292]  b: [10.94253]\n",
      "1500 손실 값: [ 27.321873 ]  W: [-0.21727699]  b: [11.461107]\n",
      "1600 손실 값: [ 23.511417 ]  W: [-0.24290621]  b: [11.944357]\n",
      "1700 손실 값: [ 20.395695 ]  W: [-0.26666504]  b: [12.39234]\n",
      "1800 손실 값: [ 17.878895 ]  W: [-0.28856477]  b: [12.805263]\n",
      "1900 손실 값: [ 15.872417 ]  W: [-0.30862513]  b: [13.183505]\n",
      "2000 손실 값: [ 14.295244 ]  W: [-0.32687587]  b: [13.527638]\n",
      "2100 손실 값: [ 13.074194 ]  W: [-0.3433595]  b: [13.8384495]\n",
      "2200 손실 값: [ 12.144127 ]  W: [-0.35812923]  b: [14.1169405]\n",
      "2300 손실 값: [ 11.447921 ]  W: [-0.3712506]  b: [14.364347]\n",
      "2400 손실 값: [ 10.936352 ]  W: [-0.38280022]  b: [14.582132]\n",
      "2500 손실 값: [ 10.567785 ]  W: [-0.39286837]  b: [14.771979]\n",
      "2600 손실 값: [ 10.307768 ]  W: [-0.40155357]  b: [14.935745]\n",
      "2700 손실 값: [ 10.128359 ]  W: [-0.40896294]  b: [15.075454]\n",
      "2800 손실 값: [ 10.007448 ]  W: [-0.4152095]  b: [15.193239]\n",
      "2900 손실 값: [ 9.927958 ]  W: [-0.42041084]  b: [15.291314]\n",
      "***** Learning Finished!!\n"
     ]
    }
   ],
   "source": [
    "# 학습 시작\n",
    "print('***** Start Learning!!')\n",
    "for step in range(3000):\n",
    "    with tf.GradientTape() as tape:\n",
    "        cost = cost_func()\n",
    "    gradients = tape.gradient(cost, [W, b])\n",
    "    optimizer.apply_gradients(zip(gradients, [W, b]))\n",
    "    \n",
    "    if step % 100 == 0:\n",
    "        print('%04d' % step, '손실 값: [', cost.numpy(), ']',\n",
    "              ' W:', W.numpy(), ' b:', b.numpy())\n",
    "print('***** Learning Finished!!')"
   ]
  },
  {
   "cell_type": "code",
   "execution_count": 7,
   "id": "6ae81eb9-4a89-4174-8bc2-e38312b81df4",
   "metadata": {},
   "outputs": [
    {
     "name": "stdout",
     "output_type": "stream",
     "text": [
      "Weight:  [-0.4246464]\n",
      "bias:  [15.371181]\n"
     ]
    }
   ],
   "source": [
    "# 회귀 계수 출력\n",
    "print(\"Weight: \", W.numpy())\n",
    "print(\"bias: \", b.numpy())"
   ]
  },
  {
   "cell_type": "code",
   "execution_count": 8,
   "id": "dae2dacc-527f-40f2-91c7-f8faf893da78",
   "metadata": {},
   "outputs": [
    {
     "name": "stdout",
     "output_type": "stream",
     "text": [
      "x=6.0, H(x)= [12.823302]\n",
      "x=9.5, H(x)= [11.33704]\n",
      "x=12.3, H(x)= [10.148029]\n"
     ]
    }
   ],
   "source": [
    "# 예측\n",
    "print('x=6.0, H(x)=',hypothesis(6.0).numpy())\n",
    "print('x=9.5, H(x)=',hypothesis(9.5).numpy())\n",
    "print('x=12.3, H(x)=',hypothesis(12.3).numpy())"
   ]
  },
  {
   "cell_type": "code",
   "execution_count": 6,
   "id": "2c2cb19d-d4b4-442a-9a23-97d1a11566d1",
   "metadata": {},
   "outputs": [
    {
     "name": "stdout",
     "output_type": "stream",
     "text": [
      "CUDA is not available.\n"
     ]
    }
   ],
   "source": [
    "import tensorflow as tf\n",
    "\n",
    "def check_cuda():\n",
    "    if tf.test.is_gpu_available():\n",
    "        print(\"CUDA is available.\")\n",
    "        gpus = tf.config.experimental.list_physical_devices('GPU')\n",
    "        for gpu in gpus:\n",
    "            print(f\"Device: {gpu}\")\n",
    "    else:\n",
    "        print(\"CUDA is not available.\")\n",
    "    \n",
    "check_cuda()"
   ]
  },
  {
   "cell_type": "code",
   "execution_count": 1,
   "id": "76e6f1b6-c8f9-4824-aba5-c5411e54c471",
   "metadata": {},
   "outputs": [
    {
     "name": "stdout",
     "output_type": "stream",
     "text": [
      "nvcc: NVIDIA (R) Cuda compiler driver\n",
      "Copyright (c) 2005-2023 NVIDIA Corporation\n",
      "Built on Tue_Jun_13_19:42:34_Pacific_Daylight_Time_2023\n",
      "Cuda compilation tools, release 12.2, V12.2.91\n",
      "Build cuda_12.2.r12.2/compiler.32965470_0\n"
     ]
    }
   ],
   "source": [
    "!nvcc --version"
   ]
  },
  {
   "cell_type": "code",
   "execution_count": 5,
   "id": "f5ef3a9d-92ca-47e2-a9f4-fa16ce47659a",
   "metadata": {},
   "outputs": [
    {
     "data": {
      "text/plain": [
       "False"
      ]
     },
     "execution_count": 5,
     "metadata": {},
     "output_type": "execute_result"
    }
   ],
   "source": [
    "tf.test.is_gpu_available()"
   ]
  },
  {
   "cell_type": "code",
   "execution_count": null,
   "id": "84b8ec5f-6759-461f-b173-d6dc892505d2",
   "metadata": {},
   "outputs": [],
   "source": []
  }
 ],
 "metadata": {
  "kernelspec": {
   "display_name": "Python 3 (ipykernel)",
   "language": "python",
   "name": "python3"
  },
  "language_info": {
   "codemirror_mode": {
    "name": "ipython",
    "version": 3
   },
   "file_extension": ".py",
   "mimetype": "text/x-python",
   "name": "python",
   "nbconvert_exporter": "python",
   "pygments_lexer": "ipython3",
   "version": "3.10.6"
  }
 },
 "nbformat": 4,
 "nbformat_minor": 5
}
