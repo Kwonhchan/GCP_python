{
 "cells": [
  {
   "cell_type": "code",
   "execution_count": 2,
   "id": "4529eed8-b7ca-4342-94bb-14fa6653c477",
   "metadata": {},
   "outputs": [
    {
     "name": "stdout",
     "output_type": "stream",
     "text": [
      "tf.Tensor(b'Hello Tensorflow!!', shape=(), dtype=string)\n"
     ]
    }
   ],
   "source": [
    "import tensorflow as tf\n",
    "import numpy as np\n",
    "#상수 : tf.constant()\n",
    "s = tf.constant(\"Hello Tensorflow!!\")\n",
    "print(s)"
   ]
  },
  {
   "cell_type": "code",
   "execution_count": 6,
   "id": "47d56597-4bd6-445d-91bf-02bb9cfff3e2",
   "metadata": {},
   "outputs": [],
   "source": [
    "# 변수 : tf.Variable()\n",
    "# 초기 값이 미리 설정,주로 텐서플로 내부에서 연산시 변경되는 변수에 사용,weight과 bias"
   ]
  },
  {
   "cell_type": "code",
   "execution_count": 3,
   "id": "1fafd57c-130d-4ce6-949d-baec02ce0d9e",
   "metadata": {},
   "outputs": [
    {
     "name": "stdout",
     "output_type": "stream",
     "text": [
      "tf.Tensor(\n",
      "[[1 3]\n",
      " [3 7]], shape=(2, 2), dtype=int32)\n"
     ]
    }
   ],
   "source": [
    "a = tf.constant([[1,2],\n",
    "                [3,4]])\n",
    "b = tf.constant([[1,1],\n",
    "                [0,1]])\n",
    "c = tf.matmul(a,b) #행렬 곱셉  공식: (m, n)(n, l)= (m, l)\n",
    "print(c)"
   ]
  },
  {
   "cell_type": "code",
   "execution_count": 4,
   "id": "888eeac1-4bcb-4c63-a46f-34a42212bd36",
   "metadata": {},
   "outputs": [
    {
     "data": {
      "text/plain": [
       "'2.16.1'"
      ]
     },
     "execution_count": 4,
     "metadata": {},
     "output_type": "execute_result"
    }
   ],
   "source": [
    "tf.__version__"
   ]
  },
  {
   "cell_type": "code",
   "execution_count": 5,
   "id": "6d862eb3-1260-4f3c-bcf7-403b8a5f0471",
   "metadata": {},
   "outputs": [
    {
     "data": {
      "text/plain": [
       "[name: \"/device:CPU:0\"\n",
       " device_type: \"CPU\"\n",
       " memory_limit: 268435456\n",
       " locality {\n",
       " }\n",
       " incarnation: 8099318164326562506\n",
       " xla_global_id: -1]"
      ]
     },
     "execution_count": 5,
     "metadata": {},
     "output_type": "execute_result"
    }
   ],
   "source": [
    "from tensorflow.python.client import device_lib\n",
    "device_lib.list_local_devices()"
   ]
  },
  {
   "cell_type": "code",
   "execution_count": 7,
   "id": "6225136a-c4eb-4ca5-9a80-8bf70a002b00",
   "metadata": {},
   "outputs": [],
   "source": [
    "### tf.Tensor: 텐서 객체\n",
    "#### 텐서는 다차원 배열로 넘파이(NumPy) ndarray 객체와 비슷하며,\n",
    "#### tf.Tensor 객체는 데이터 타입과 크기를 가지고 있다.\n",
    "#### 또한 tf.Tensor는 GPU 같은 가속기 메모리에 상주할 수 있다.\n",
    "#### 텐서플로는 텐서를 생성하고 이용하는 풍부한 연산 라이브러리(tf.add, tf.matmul, tf.linalg.inv 등.)를 제공하며\n",
    "#### 연산수행 시 자동으로 텐서를 파이썬 네이티브(native) 타입으로 변환하여 연산한다"
   ]
  },
  {
   "cell_type": "code",
   "execution_count": 10,
   "id": "75609900-1ee0-45ba-986f-7419d697564d",
   "metadata": {},
   "outputs": [
    {
     "name": "stdout",
     "output_type": "stream",
     "text": [
      "tf.Tensor(3, shape=(), dtype=int32)\n"
     ]
    }
   ],
   "source": [
    "#tf.Variable\n",
    "a = tf.Variable(1)\n",
    "b = tf.Variable(2)\n",
    "c = tf.add(a,b)\n",
    "print(c)"
   ]
  },
  {
   "cell_type": "code",
   "execution_count": 12,
   "id": "e577daa6-8af7-4771-9fec-8d627f58aa40",
   "metadata": {},
   "outputs": [
    {
     "name": "stdout",
     "output_type": "stream",
     "text": [
      "tf.Tensor(3, shape=(), dtype=int32)\n",
      "tf.Tensor([4 6], shape=(2,), dtype=int32)\n",
      "tf.Tensor(25, shape=(), dtype=int32)\n",
      "tf.Tensor(6, shape=(), dtype=int32)\n"
     ]
    }
   ],
   "source": [
    "print(tf.add(1,2))\n",
    "print(tf.add([1,2],[3,4]))\n",
    "print(tf.square(5))\n",
    "print(tf.reduce_sum([1,2,3]))"
   ]
  },
  {
   "cell_type": "code",
   "execution_count": null,
   "id": "b9dd6ce4-ac4f-4c8b-aaf3-b0dc9f15dd07",
   "metadata": {},
   "outputs": [],
   "source": [
    "# 10 : scalar, 0차원\n",
    "# [1 2 3] : vector, 1차원, Rank 1 \n",
    "# [[1. 2.]   : matrix(행렬), 2차원, Rank 2\n",
    "    [3. 4.]]\n",
    "#[[[1. 2.]    : 3d-Tensor, 3차원, Rank 3\n",
    "    [3. 4.]\n",
    "    [[1. 2.]\n",
    "     [3. 4.]]]"
   ]
  },
  {
   "cell_type": "code",
   "execution_count": 20,
   "id": "5df945b1-3e26-4a7f-8597-945846ef3e13",
   "metadata": {},
   "outputs": [
    {
     "name": "stdout",
     "output_type": "stream",
     "text": [
      "tf.Tensor(\n",
      "[[1. 2.]\n",
      " [3. 4.]], shape=(2, 2), dtype=float32)\n",
      "<class 'tensorflow.python.framework.ops.EagerTensor'>\n",
      "(2, 2)\n",
      "<dtype: 'float32'>\n",
      "[[1. 2.]\n",
      " [3. 4.]]\n",
      "<class 'numpy.ndarray'>\n",
      "10\n",
      "<class 'int'>\n"
     ]
    }
   ],
   "source": [
    "# 텐서 객체\n",
    "a = tf.constant([[1.,2.],\n",
    "                 [3.,4.]])\n",
    "print(a)\n",
    "print(type(a))\n",
    "print(a.shape)\n",
    "print(a.dtype)\n",
    "# 넘파이 객체로 변환\n",
    "n = a.numpy()\n",
    "print(n)\n",
    "print(type(n))\n",
    "# 파이썬 네이티브로 변환\n",
    "a = tf.constant(10)\n",
    "b = int(a)\n",
    "print(b)\n",
    "print(type(b))"
   ]
  }
 ],
 "metadata": {
  "kernelspec": {
   "display_name": "Python 3 (ipykernel)",
   "language": "python",
   "name": "python3"
  },
  "language_info": {
   "codemirror_mode": {
    "name": "ipython",
    "version": 3
   },
   "file_extension": ".py",
   "mimetype": "text/x-python",
   "name": "python",
   "nbconvert_exporter": "python",
   "pygments_lexer": "ipython3",
   "version": "3.12.2"
  }
 },
 "nbformat": 4,
 "nbformat_minor": 5
}
