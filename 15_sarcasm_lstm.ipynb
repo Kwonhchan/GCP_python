{
 "cells": [
  {
   "cell_type": "code",
   "execution_count": 1,
   "id": "1a07361a-6ce0-4bc4-af7a-bad904ff4576",
   "metadata": {},
   "outputs": [],
   "source": [
    "# sarcasm json data binary classification\n",
    "# total 26,709 headlines"
   ]
  },
  {
   "cell_type": "code",
   "execution_count": 2,
   "id": "137743e7-365b-4bdd-872a-26976d417278",
   "metadata": {},
   "outputs": [
    {
     "name": "stdout",
     "output_type": "stream",
     "text": [
      "Requirement already satisfied: pandas in c:\\users\\user\\anaconda3\\envs\\google\\lib\\site-packages (2.2.2)\n",
      "Requirement already satisfied: numpy>=1.22.4 in c:\\users\\user\\anaconda3\\envs\\google\\lib\\site-packages (from pandas) (1.26.4)\n",
      "Requirement already satisfied: python-dateutil>=2.8.2 in c:\\users\\user\\anaconda3\\envs\\google\\lib\\site-packages (from pandas) (2.9.0.post0)\n",
      "Requirement already satisfied: pytz>=2020.1 in c:\\users\\user\\anaconda3\\envs\\google\\lib\\site-packages (from pandas) (2024.1)\n",
      "Requirement already satisfied: tzdata>=2022.7 in c:\\users\\user\\anaconda3\\envs\\google\\lib\\site-packages (from pandas) (2024.1)\n",
      "Requirement already satisfied: six>=1.5 in c:\\users\\user\\anaconda3\\envs\\google\\lib\\site-packages (from python-dateutil>=2.8.2->pandas) (1.16.0)\n"
     ]
    }
   ],
   "source": [
    "!pip install pandas"
   ]
  },
  {
   "cell_type": "code",
   "execution_count": 3,
   "id": "39ea55b8-d443-4712-abf1-a0f0e376a2ee",
   "metadata": {},
   "outputs": [],
   "source": [
    "import json\n",
    "import tensorflow as tf\n",
    "import urllib\n",
    "from tensorflow.keras.preprocessing.text import Tokenizer\n",
    "from tensorflow.keras.preprocessing.sequence import pad_sequences"
   ]
  },
  {
   "cell_type": "code",
   "execution_count": 4,
   "id": "20c15108-c45e-4e9c-9eb0-90cff340d5c6",
   "metadata": {},
   "outputs": [
    {
     "data": {
      "text/plain": [
       "('sarcasm.json', <http.client.HTTPMessage at 0x19e3adf0520>)"
      ]
     },
     "execution_count": 4,
     "metadata": {},
     "output_type": "execute_result"
    }
   ],
   "source": [
    "# sarcasm.json 데이터셋 파일 다운로드 , Windows용\n",
    "url = 'https://storage.googleapis.com/download.tensorflow.org/data/sarcasm.json'\n",
    "urllib.request.urlretrieve(url, 'sarcasm.json')"
   ]
  },
  {
   "cell_type": "code",
   "execution_count": 5,
   "id": "9bdce559-bfdb-4d8a-8b5f-955fa3b99f67",
   "metadata": {},
   "outputs": [],
   "source": [
    "# 데이터 파일 불러오기\n",
    "with open('sarcasm.json', 'r') as f:\n",
    "    datastore = json.load(f) # type : dict\n",
    "sentences = []\n",
    "labels = []\n",
    "\n",
    "for item in datastore:\n",
    "    sentences.append(item['headline'])\n",
    "    labels.append(item['is_sarcastic'])"
   ]
  },
  {
   "cell_type": "code",
   "execution_count": 6,
   "id": "2dbe8634-ba4b-4c3e-8519-464de8d2132e",
   "metadata": {},
   "outputs": [
    {
     "name": "stdout",
     "output_type": "stream",
     "text": [
      "<class 'dict'>\n",
      "(26709, 2)\n",
      "is_sarcastic\n",
      "0    14985\n",
      "1    11724\n",
      "Name: count, dtype: int64\n"
     ]
    },
    {
     "data": {
      "text/html": [
       "<div>\n",
       "<style scoped>\n",
       "    .dataframe tbody tr th:only-of-type {\n",
       "        vertical-align: middle;\n",
       "    }\n",
       "\n",
       "    .dataframe tbody tr th {\n",
       "        vertical-align: top;\n",
       "    }\n",
       "\n",
       "    .dataframe thead th {\n",
       "        text-align: right;\n",
       "    }\n",
       "</style>\n",
       "<table border=\"1\" class=\"dataframe\">\n",
       "  <thead>\n",
       "    <tr style=\"text-align: right;\">\n",
       "      <th></th>\n",
       "      <th>headline</th>\n",
       "      <th>is_sarcastic</th>\n",
       "    </tr>\n",
       "  </thead>\n",
       "  <tbody>\n",
       "    <tr>\n",
       "      <th>0</th>\n",
       "      <td>former versace store clerk sues over secret 'b...</td>\n",
       "      <td>0</td>\n",
       "    </tr>\n",
       "    <tr>\n",
       "      <th>1</th>\n",
       "      <td>the 'roseanne' revival catches up to our thorn...</td>\n",
       "      <td>0</td>\n",
       "    </tr>\n",
       "    <tr>\n",
       "      <th>2</th>\n",
       "      <td>mom starting to fear son's web series closest ...</td>\n",
       "      <td>1</td>\n",
       "    </tr>\n",
       "    <tr>\n",
       "      <th>3</th>\n",
       "      <td>boehner just wants wife to listen, not come up...</td>\n",
       "      <td>1</td>\n",
       "    </tr>\n",
       "    <tr>\n",
       "      <th>4</th>\n",
       "      <td>j.k. rowling wishes snape happy birthday in th...</td>\n",
       "      <td>0</td>\n",
       "    </tr>\n",
       "    <tr>\n",
       "      <th>5</th>\n",
       "      <td>advancing the world's women</td>\n",
       "      <td>0</td>\n",
       "    </tr>\n",
       "    <tr>\n",
       "      <th>6</th>\n",
       "      <td>the fascinating case for eating lab-grown meat</td>\n",
       "      <td>0</td>\n",
       "    </tr>\n",
       "    <tr>\n",
       "      <th>7</th>\n",
       "      <td>this ceo will send your kids to school, if you...</td>\n",
       "      <td>0</td>\n",
       "    </tr>\n",
       "    <tr>\n",
       "      <th>8</th>\n",
       "      <td>top snake handler leaves sinking huckabee camp...</td>\n",
       "      <td>1</td>\n",
       "    </tr>\n",
       "    <tr>\n",
       "      <th>9</th>\n",
       "      <td>friday's morning email: inside trump's presser...</td>\n",
       "      <td>0</td>\n",
       "    </tr>\n",
       "  </tbody>\n",
       "</table>\n",
       "</div>"
      ],
      "text/plain": [
       "                                            headline  is_sarcastic\n",
       "0  former versace store clerk sues over secret 'b...             0\n",
       "1  the 'roseanne' revival catches up to our thorn...             0\n",
       "2  mom starting to fear son's web series closest ...             1\n",
       "3  boehner just wants wife to listen, not come up...             1\n",
       "4  j.k. rowling wishes snape happy birthday in th...             0\n",
       "5                        advancing the world's women             0\n",
       "6     the fascinating case for eating lab-grown meat             0\n",
       "7  this ceo will send your kids to school, if you...             0\n",
       "8  top snake handler leaves sinking huckabee camp...             1\n",
       "9  friday's morning email: inside trump's presser...             0"
      ]
     },
     "execution_count": 6,
     "metadata": {},
     "output_type": "execute_result"
    }
   ],
   "source": [
    "# 데이터 프레임으로 보기\n",
    "import pandas as pd\n",
    "df = pd.DataFrame(datastore)\n",
    "df = df.iloc[:,1:]\n",
    "\n",
    "print(type(datastore[0]))  # <class 'dict'>\n",
    "print(df.shape)            # (26709, 2)\n",
    "print(df['is_sarcastic'].value_counts())   # 0    14985 : not sarcastic \n",
    "                                           # 1    11724 : sarcastic\n",
    "df.head(10)"
   ]
  },
  {
   "cell_type": "markdown",
   "id": "61ddd988-07e0-4f6f-a99d-41ba106c7595",
   "metadata": {},
   "source": [
    "### 텍스트 전처리: Tokenizer"
   ]
  },
  {
   "cell_type": "code",
   "execution_count": 7,
   "id": "ec470a66-f090-487b-a8ba-913f3471072b",
   "metadata": {},
   "outputs": [],
   "source": [
    "# 전처리를 위한 변수 설정\n",
    "vocab_size = 10000    # 토큰화에 사용될 최대 어휘수\n",
    "embedding_dim = 16    # Embedding 계층의 output size\n",
    "max_length = 100      # 한 문장의 길이, 데이터 셋의 길이, maxlen\n",
    "padding_type = 'post'  # 패딩 유형\n",
    "trunc_type = 'post'  # 잘라내기 유형   # maxlen보다 클때 잘라낼 유형, 'post' : 뒤쪽\n",
    "oov_tok = \"<OOV>\"     # Out-Of-Vocabulary(단어 집합에 없는 단어)\n",
    "training_size = 20000 # 학습 데이터의 개수"
   ]
  },
  {
   "cell_type": "code",
   "execution_count": 8,
   "id": "79e3a305-47dc-4c72-b12e-d3eff46e5a69",
   "metadata": {},
   "outputs": [],
   "source": [
    "# train(20000)/test(6709) data split\n",
    "training_sentences = sentences[:training_size]\n",
    "training_labels = labels[:training_size]\n",
    "\n",
    "test_sentences = sentences[training_size:]\n",
    "test_labels = labels[training_size:]"
   ]
  },
  {
   "cell_type": "code",
   "execution_count": 9,
   "id": "0fd0435a-039d-4eba-a20a-d3ff44c76e73",
   "metadata": {},
   "outputs": [],
   "source": [
    "# 토큰나이저를 시행하여 단어를 숫자값, 인덱스로 변환하여 저장\n",
    "\n",
    "#가장 빈도가 높은 10000개의 단어들만 사용하여 토큰화\n",
    "tokenizer = Tokenizer(num_words=vocab_size, oov_token=oov_tok)\n",
    "tokenizer.fit_on_texts(training_sentences)\n",
    "\n",
    "word_index = tokenizer.word_index\n",
    "\n",
    "# 문자열을 정수 인덱스의 리스트로 변환 : 정수 인코딩\n",
    "training_sequences = tokenizer.texts_to_sequences(training_sentences)\n",
    "# print(training_sequences[10000])\n",
    "\n",
    "# 패딩, 벡터 표현을 얻음 : 신경망에 입력할 X값\n",
    "training_padded = pad_sequences(training_sequences, maxlen=max_length, padding=padding_type, truncating=trunc_type)\n",
    "\n",
    "# print(training_padded[0])\n",
    "# traininig_padded.shape      # (20000,100)\n",
    "\n",
    "# test 데이터 : 정수 인덱스의 리스트로 변환\n",
    "test_sequences = tokenizer.texts_to_sequences(test_sentences)\n",
    "\n",
    "# test 데이터 : 벡터 표현을 얻음\n",
    "test_padded = pad_sequences(test_sequences, maxlen=max_length, padding=padding_type, truncating=trunc_type)"
   ]
  },
  {
   "cell_type": "code",
   "execution_count": 10,
   "id": "236f3c6f-e642-43bf-b04d-63bdad1f4cf9",
   "metadata": {},
   "outputs": [
    {
     "name": "stdout",
     "output_type": "stream",
     "text": [
      "(20000, 100)\n",
      "(6709, 100)\n"
     ]
    }
   ],
   "source": [
    "print(training_padded.shape)      # (20000, 100)\n",
    "print(test_padded.shape)          # (6709, 100)"
   ]
  },
  {
   "cell_type": "code",
   "execution_count": 11,
   "id": "b60d72b6-e226-4898-9650-f4f9ef667193",
   "metadata": {},
   "outputs": [],
   "source": [
    "# list를 array로 변환\n",
    "import numpy as np\n",
    "\n",
    "training_labels = np.array(training_labels)      #(20000,)\n",
    "test_labels = np.array(test_labels)              #(6709,)"
   ]
  },
  {
   "cell_type": "markdown",
   "id": "9a4406aa-018a-4156-85fc-21ae93521187",
   "metadata": {},
   "source": [
    "## 학습모델"
   ]
  },
  {
   "cell_type": "code",
   "execution_count": 12,
   "id": "24e52c53-1883-4071-9af8-3784df24d1ba",
   "metadata": {},
   "outputs": [
    {
     "name": "stdout",
     "output_type": "stream",
     "text": [
      "Model: \"sequential\"\n",
      "_________________________________________________________________\n",
      " Layer (type)                Output Shape              Param #   \n",
      "=================================================================\n",
      " embedding (Embedding)       (None, 100, 16)           160000    \n",
      "                                                                 \n",
      " global_average_pooling1d (G  (None, 16)               0         \n",
      " lobalAveragePooling1D)                                          \n",
      "                                                                 \n",
      " dense (Dense)               (None, 24)                408       \n",
      "                                                                 \n",
      " dense_1 (Dense)             (None, 1)                 25        \n",
      "                                                                 \n",
      "=================================================================\n",
      "Total params: 160,433\n",
      "Trainable params: 160,433\n",
      "Non-trainable params: 0\n",
      "_________________________________________________________________\n"
     ]
    }
   ],
   "source": [
    "model = tf.keras.Sequential([\n",
    "    tf.keras.layers.Embedding(vocab_size,embedding_dim,input_length=max_length),\n",
    "    tf.keras.layers.GlobalAveragePooling1D(),\n",
    "    tf.keras.layers.Dense(24,activation='relu'),\n",
    "    tf.keras.layers.Dense(1,activation='sigmoid')\n",
    "])\n",
    "\n",
    "model.compile(optimizer='adam',\n",
    "              loss='binary_crossentropy',\n",
    "              metrics=['accuracy'])\n",
    "\n",
    "model.summary()"
   ]
  },
  {
   "cell_type": "code",
   "execution_count": 13,
   "id": "fcd48efb-d515-4d6f-8d60-bc38609bdad5",
   "metadata": {
    "scrolled": true
   },
   "outputs": [
    {
     "name": "stdout",
     "output_type": "stream",
     "text": [
      "Epoch 1/30\n",
      "625/625 [==============================] - 3s 4ms/step - loss: 0.6640 - accuracy: 0.5885 - val_loss: 0.5761 - val_accuracy: 0.7436\n",
      "Epoch 2/30\n",
      "625/625 [==============================] - 2s 4ms/step - loss: 0.4208 - accuracy: 0.8338 - val_loss: 0.3963 - val_accuracy: 0.8213\n",
      "Epoch 3/30\n",
      "625/625 [==============================] - 2s 4ms/step - loss: 0.3032 - accuracy: 0.8816 - val_loss: 0.3560 - val_accuracy: 0.8486\n",
      "Epoch 4/30\n",
      "625/625 [==============================] - 3s 4ms/step - loss: 0.2509 - accuracy: 0.9021 - val_loss: 0.3429 - val_accuracy: 0.8574\n",
      "Epoch 5/30\n",
      "625/625 [==============================] - 3s 5ms/step - loss: 0.2147 - accuracy: 0.9168 - val_loss: 0.3469 - val_accuracy: 0.8547\n",
      "Epoch 6/30\n",
      "625/625 [==============================] - 3s 5ms/step - loss: 0.1889 - accuracy: 0.9287 - val_loss: 0.3659 - val_accuracy: 0.8506\n",
      "Epoch 7/30\n",
      "625/625 [==============================] - 2s 4ms/step - loss: 0.1664 - accuracy: 0.9384 - val_loss: 0.3776 - val_accuracy: 0.8496\n",
      "Epoch 8/30\n",
      "625/625 [==============================] - 2s 4ms/step - loss: 0.1476 - accuracy: 0.9462 - val_loss: 0.3893 - val_accuracy: 0.8538\n",
      "Epoch 9/30\n",
      "625/625 [==============================] - 3s 4ms/step - loss: 0.1345 - accuracy: 0.9518 - val_loss: 0.4104 - val_accuracy: 0.8527\n",
      "Epoch 10/30\n",
      "625/625 [==============================] - 3s 4ms/step - loss: 0.1193 - accuracy: 0.9582 - val_loss: 0.4435 - val_accuracy: 0.8450\n",
      "Epoch 11/30\n",
      "625/625 [==============================] - 2s 4ms/step - loss: 0.1071 - accuracy: 0.9632 - val_loss: 0.4833 - val_accuracy: 0.8360\n",
      "Epoch 12/30\n",
      "625/625 [==============================] - 2s 4ms/step - loss: 0.1006 - accuracy: 0.9651 - val_loss: 0.5255 - val_accuracy: 0.8320\n",
      "Epoch 13/30\n",
      "625/625 [==============================] - 3s 4ms/step - loss: 0.0886 - accuracy: 0.9706 - val_loss: 0.5871 - val_accuracy: 0.8274\n",
      "Epoch 14/30\n",
      "625/625 [==============================] - 3s 5ms/step - loss: 0.0824 - accuracy: 0.9712 - val_loss: 0.5552 - val_accuracy: 0.8398\n",
      "Epoch 15/30\n",
      "625/625 [==============================] - 2s 4ms/step - loss: 0.0746 - accuracy: 0.9760 - val_loss: 0.6429 - val_accuracy: 0.8267\n",
      "Epoch 16/30\n",
      "625/625 [==============================] - 2s 3ms/step - loss: 0.0676 - accuracy: 0.9782 - val_loss: 0.6235 - val_accuracy: 0.8317\n",
      "Epoch 17/30\n",
      "625/625 [==============================] - 3s 4ms/step - loss: 0.0620 - accuracy: 0.9803 - val_loss: 0.7441 - val_accuracy: 0.8213\n",
      "Epoch 18/30\n",
      "625/625 [==============================] - 3s 5ms/step - loss: 0.0576 - accuracy: 0.9815 - val_loss: 0.7082 - val_accuracy: 0.8281\n",
      "Epoch 19/30\n",
      "625/625 [==============================] - 2s 4ms/step - loss: 0.0515 - accuracy: 0.9845 - val_loss: 0.7711 - val_accuracy: 0.8267\n",
      "Epoch 20/30\n",
      "625/625 [==============================] - 2s 4ms/step - loss: 0.0461 - accuracy: 0.9859 - val_loss: 0.8252 - val_accuracy: 0.8211\n",
      "Epoch 21/30\n",
      "625/625 [==============================] - 2s 4ms/step - loss: 0.0425 - accuracy: 0.9867 - val_loss: 0.8398 - val_accuracy: 0.8225\n",
      "Epoch 22/30\n",
      "625/625 [==============================] - 2s 3ms/step - loss: 0.0390 - accuracy: 0.9886 - val_loss: 0.8898 - val_accuracy: 0.8204\n",
      "Epoch 23/30\n",
      "625/625 [==============================] - 3s 4ms/step - loss: 0.0384 - accuracy: 0.9883 - val_loss: 0.9280 - val_accuracy: 0.8186\n",
      "Epoch 24/30\n",
      "625/625 [==============================] - 3s 4ms/step - loss: 0.0338 - accuracy: 0.9899 - val_loss: 0.9889 - val_accuracy: 0.8185\n",
      "Epoch 25/30\n",
      "625/625 [==============================] - 3s 4ms/step - loss: 0.0287 - accuracy: 0.9919 - val_loss: 0.9881 - val_accuracy: 0.8180\n",
      "Epoch 26/30\n",
      "625/625 [==============================] - 3s 4ms/step - loss: 0.0286 - accuracy: 0.9913 - val_loss: 1.0244 - val_accuracy: 0.8149\n",
      "Epoch 27/30\n",
      "625/625 [==============================] - 3s 5ms/step - loss: 0.0281 - accuracy: 0.9912 - val_loss: 1.1416 - val_accuracy: 0.8140\n",
      "Epoch 28/30\n",
      "625/625 [==============================] - 3s 4ms/step - loss: 0.0237 - accuracy: 0.9930 - val_loss: 1.1537 - val_accuracy: 0.8149\n",
      "Epoch 29/30\n",
      "625/625 [==============================] - 3s 5ms/step - loss: 0.0231 - accuracy: 0.9934 - val_loss: 1.1907 - val_accuracy: 0.8138\n",
      "Epoch 30/30\n",
      "625/625 [==============================] - 2s 3ms/step - loss: 0.0200 - accuracy: 0.9944 - val_loss: 1.1961 - val_accuracy: 0.8132\n"
     ]
    }
   ],
   "source": [
    "# 학습\n",
    "history = model.fit(training_padded, training_labels,epochs=30,\n",
    "                    validation_data=(test_padded,test_labels))"
   ]
  },
  {
   "cell_type": "code",
   "execution_count": 14,
   "id": "7f1a9563-3add-42f0-b4ee-8f673187156b",
   "metadata": {},
   "outputs": [
    {
     "data": {
      "image/png": "[encoded data removed]",
      "text/plain": [
       "<Figure size 640x480 with 1 Axes>"
      ]
     },
     "metadata": {},
     "output_type": "display_data"
    },
    {
     "data": {
      "image/png": "[encoded data removed]",
      "text/plain": [
       "<Figure size 640x480 with 1 Axes>"
      ]
     },
     "metadata": {},
     "output_type": "display_data"
    }
   ],
   "source": [
    "# 시각화\n",
    "import matplotlib.pyplot as plt\n",
    "\n",
    "def plot_graphs(history, string):\n",
    "    plt.plot(history.history[string])\n",
    "    plt.plot(history.history['val_'+string])\n",
    "    plt.xlabel(\"Epochs\")\n",
    "    plt.ylabel(string)\n",
    "    plt.legend([string, 'val_'+string])\n",
    "    plt.show()\n",
    "\n",
    "plot_graphs(history, \"accuracy\")\n",
    "plot_graphs(history, \"loss\")"
   ]
  },
  {
   "cell_type": "code",
   "execution_count": 25,
   "id": "d5ff88fc-e760-4025-a41b-2c1d84a83124",
   "metadata": {},
   "outputs": [
    {
     "name": "stdout",
     "output_type": "stream",
     "text": [
      "Model: \"sequential_8\"\n",
      "_________________________________________________________________\n",
      " Layer (type)                Output Shape              Param #   \n",
      "=================================================================\n",
      " embedding_8 (Embedding)     (None, 100, 16)           160000    \n",
      "                                                                 \n",
      " dropout_9 (Dropout)         (None, 100, 16)           0         \n",
      "                                                                 \n",
      " bidirectional_11 (Bidirecti  (None, 100, 128)         41472     \n",
      " onal)                                                           \n",
      "                                                                 \n",
      " dropout_10 (Dropout)        (None, 100, 128)          0         \n",
      "                                                                 \n",
      " bidirectional_12 (Bidirecti  (None, 64)               41216     \n",
      " onal)                                                           \n",
      "                                                                 \n",
      " dropout_11 (Dropout)        (None, 64)                0         \n",
      "                                                                 \n",
      " dense_16 (Dense)            (None, 64)                4160      \n",
      "                                                                 \n",
      " dense_17 (Dense)            (None, 1)                 65        \n",
      "                                                                 \n",
      "=================================================================\n",
      "Total params: 246,913\n",
      "Trainable params: 246,913\n",
      "Non-trainable params: 0\n",
      "_________________________________________________________________\n"
     ]
    }
   ],
   "source": [
    "# LSTM\n",
    "\n",
    "model_lstm = tf.keras.Sequential([\n",
    "    tf.keras.layers.Embedding(vocab_size,embedding_dim,input_length=max_length),\n",
    "    tf.keras.layers.Dropout(0.2),\n",
    "    tf.keras.layers.Bidirectional(tf.keras.layers.LSTM(64, return_sequences=True)),\n",
    "    tf.keras.layers.Dropout(0.2),\n",
    "    tf.keras.layers.Bidirectional(tf.keras.layers.LSTM(32)),\n",
    "    tf.keras.layers.Dropout(0.2),\n",
    "    tf.keras.layers.Dense(64,activation='relu'),\n",
    "    tf.keras.layers.Dense(1,activation='sigmoid'),\n",
    "                         ])\n",
    "\n",
    "\n",
    "model_lstm.compile(optimizer='adam',\n",
    "              loss='binary_crossentropy',\n",
    "              metrics=['accuracy'])\n",
    "\n",
    "model_lstm.summary()"
   ]
  },
  {
   "cell_type": "code",
   "execution_count": 26,
   "id": "8abbd13f-89d0-45a1-afeb-40c4f346eb62",
   "metadata": {
    "scrolled": true
   },
   "outputs": [
    {
     "name": "stdout",
     "output_type": "stream",
     "text": [
      "Epoch 1/30\n",
      "625/625 [==============================] - 24s 30ms/step - loss: 0.4138 - accuracy: 0.7968 - val_loss: 0.3271 - val_accuracy: 0.8568\n",
      "Epoch 2/30\n",
      "625/625 [==============================] - 18s 29ms/step - loss: 0.2259 - accuracy: 0.9083 - val_loss: 0.3375 - val_accuracy: 0.8594\n",
      "Epoch 3/30\n",
      "625/625 [==============================] - 18s 29ms/step - loss: 0.1539 - accuracy: 0.9409 - val_loss: 0.3700 - val_accuracy: 0.8526\n",
      "Epoch 4/30\n",
      "625/625 [==============================] - 18s 29ms/step - loss: 0.1150 - accuracy: 0.9567 - val_loss: 0.4667 - val_accuracy: 0.8509\n",
      "Epoch 5/30\n",
      "625/625 [==============================] - 18s 28ms/step - loss: 0.0863 - accuracy: 0.9682 - val_loss: 0.4945 - val_accuracy: 0.8451\n",
      "Epoch 6/30\n",
      "625/625 [==============================] - 18s 29ms/step - loss: 0.0669 - accuracy: 0.9755 - val_loss: 0.6057 - val_accuracy: 0.8474\n",
      "Epoch 7/30\n",
      "625/625 [==============================] - 18s 29ms/step - loss: 0.0511 - accuracy: 0.9821 - val_loss: 0.6939 - val_accuracy: 0.8427\n",
      "Epoch 8/30\n",
      "625/625 [==============================] - 18s 29ms/step - loss: 0.0416 - accuracy: 0.9846 - val_loss: 0.6362 - val_accuracy: 0.8407\n",
      "Epoch 9/30\n",
      "625/625 [==============================] - 19s 30ms/step - loss: 0.0331 - accuracy: 0.9878 - val_loss: 0.8329 - val_accuracy: 0.8363\n",
      "Epoch 10/30\n",
      "625/625 [==============================] - 19s 31ms/step - loss: 0.0294 - accuracy: 0.9893 - val_loss: 0.8149 - val_accuracy: 0.8338\n",
      "Epoch 11/30\n",
      "625/625 [==============================] - 19s 30ms/step - loss: 0.0286 - accuracy: 0.9905 - val_loss: 0.8584 - val_accuracy: 0.8380\n",
      "Epoch 12/30\n",
      "625/625 [==============================] - 19s 31ms/step - loss: 0.0269 - accuracy: 0.9901 - val_loss: 0.7869 - val_accuracy: 0.8405\n",
      "Epoch 13/30\n",
      "625/625 [==============================] - 19s 30ms/step - loss: 0.0222 - accuracy: 0.9923 - val_loss: 0.8412 - val_accuracy: 0.8362\n",
      "Epoch 14/30\n",
      "625/625 [==============================] - 19s 30ms/step - loss: 0.0202 - accuracy: 0.9937 - val_loss: 0.8909 - val_accuracy: 0.8344\n",
      "Epoch 15/30\n",
      "625/625 [==============================] - 19s 30ms/step - loss: 0.0209 - accuracy: 0.9931 - val_loss: 0.8760 - val_accuracy: 0.8375\n",
      "Epoch 16/30\n",
      "625/625 [==============================] - 19s 31ms/step - loss: 0.0183 - accuracy: 0.9937 - val_loss: 1.0332 - val_accuracy: 0.8337\n",
      "Epoch 17/30\n",
      "625/625 [==============================] - 19s 31ms/step - loss: 0.0157 - accuracy: 0.9938 - val_loss: 1.0674 - val_accuracy: 0.8337\n",
      "Epoch 18/30\n",
      "625/625 [==============================] - 19s 30ms/step - loss: 0.0150 - accuracy: 0.9945 - val_loss: 1.0251 - val_accuracy: 0.8341\n",
      "Epoch 19/30\n",
      "625/625 [==============================] - 19s 31ms/step - loss: 0.0148 - accuracy: 0.9946 - val_loss: 0.9116 - val_accuracy: 0.8292\n",
      "Epoch 20/30\n",
      "625/625 [==============================] - 18s 29ms/step - loss: 0.0136 - accuracy: 0.9952 - val_loss: 0.8477 - val_accuracy: 0.8378\n",
      "Epoch 21/30\n",
      "625/625 [==============================] - 19s 30ms/step - loss: 0.0132 - accuracy: 0.9954 - val_loss: 0.8712 - val_accuracy: 0.8319\n",
      "Epoch 22/30\n",
      "625/625 [==============================] - 19s 30ms/step - loss: 0.0118 - accuracy: 0.9957 - val_loss: 1.1360 - val_accuracy: 0.8277\n",
      "Epoch 23/30\n",
      "625/625 [==============================] - 18s 28ms/step - loss: 0.0112 - accuracy: 0.9960 - val_loss: 1.0386 - val_accuracy: 0.8346\n",
      "Epoch 24/30\n",
      "625/625 [==============================] - 18s 29ms/step - loss: 0.0111 - accuracy: 0.9959 - val_loss: 1.0521 - val_accuracy: 0.8360\n",
      "Epoch 25/30\n",
      "625/625 [==============================] - 18s 28ms/step - loss: 0.0087 - accuracy: 0.9967 - val_loss: 1.2612 - val_accuracy: 0.8410\n",
      "Epoch 26/30\n",
      "625/625 [==============================] - 18s 28ms/step - loss: 0.0082 - accuracy: 0.9973 - val_loss: 1.3998 - val_accuracy: 0.8354\n",
      "Epoch 27/30\n",
      "625/625 [==============================] - 18s 29ms/step - loss: 0.0088 - accuracy: 0.9972 - val_loss: 1.1892 - val_accuracy: 0.8375\n",
      "Epoch 28/30\n",
      "625/625 [==============================] - 18s 30ms/step - loss: 0.0099 - accuracy: 0.9966 - val_loss: 1.1495 - val_accuracy: 0.8334\n",
      "Epoch 29/30\n",
      "625/625 [==============================] - 18s 29ms/step - loss: 0.0087 - accuracy: 0.9971 - val_loss: 1.1284 - val_accuracy: 0.8346\n",
      "Epoch 30/30\n",
      "625/625 [==============================] - 19s 30ms/step - loss: 0.0065 - accuracy: 0.9976 - val_loss: 1.1339 - val_accuracy: 0.8319\n"
     ]
    }
   ],
   "source": [
    "history_lstm = model_lstm.fit(training_padded, training_labels,epochs=30,\n",
    "                    validation_data=(test_padded,test_labels))"
   ]
  },
  {
   "cell_type": "code",
   "execution_count": 32,
   "id": "11e8ee75-0610-466e-9235-88ea9cb32ded",
   "metadata": {},
   "outputs": [
    {
     "data": {
      "image/png": "[encoded data removed]",
      "text/plain": [
       "<Figure size 640x480 with 1 Axes>"
      ]
     },
     "metadata": {},
     "output_type": "display_data"
    },
    {
     "data": {
      "image/png": "[encoded data removed]",
      "text/plain": [
       "<Figure size 640x480 with 1 Axes>"
      ]
     },
     "metadata": {},
     "output_type": "display_data"
    }
   ],
   "source": [
    "# 시각화 # 성능 약간 개선됨\n",
    "import matplotlib.pyplot as plt\n",
    "\n",
    "def plot_graphs(history_lstm, string):\n",
    "    plt.plot(history_lstm.history[string])\n",
    "    plt.plot(history_lstm.history['val_'+string])\n",
    "    plt.xlabel(\"Epochs\")\n",
    "    plt.ylabel(string)\n",
    "    plt.legend([string, 'val_'+string])\n",
    "    plt.show()\n",
    "\n",
    "plot_graphs(history_lstm, \"accuracy\")\n",
    "plot_graphs(history_lstm, \"loss\")"
   ]
  },
  {
   "cell_type": "code",
   "execution_count": 27,
   "id": "b9cb8fbe-dcdd-4345-88b6-040af83a04bc",
   "metadata": {},
   "outputs": [
    {
     "name": "stdout",
     "output_type": "stream",
     "text": [
      "mom starting to fear son's web series closest thing she will have to grandchild ? ? ? ? ? ? ? ? ? ? ? ? ? ? ? ? ? ? ? ? ? ? ? ? ? ? ? ? ? ? ? ? ? ? ? ? ? ? ? ? ? ? ? ? ? ? ? ? ? ? ? ? ? ? ? ? ? ? ? ? ? ? ? ? ? ? ? ? ? ? ? ? ? ? ? ? ? ? ? ? ? ? ? ? ? ?\n",
      "mom starting to fear son's web series closest thing she will have to grandchild\n",
      "1\n"
     ]
    }
   ],
   "source": [
    "reverse_word_index = dict([(value, key) for (key, value) in word_index.items()])\n",
    "\n",
    "def decode_sentence(text):\n",
    "    return ' '.join([reverse_word_index.get(i, '?') for i in text])\n",
    "\n",
    "print(decode_sentence(training_padded[2]))\n",
    "print(training_sentences[2])\n",
    "print(labels[2])"
   ]
  },
  {
   "cell_type": "code",
   "execution_count": 28,
   "id": "332fa060-06b0-4fb7-8830-9899617c702a",
   "metadata": {},
   "outputs": [
    {
     "name": "stdout",
     "output_type": "stream",
     "text": [
      "(10000, 16)\n"
     ]
    }
   ],
   "source": [
    "e = model.layers[0]\n",
    "weights = e.get_weights()[0]\n",
    "print(weights.shape) # vocabsize, "
   ]
  },
  {
   "cell_type": "code",
   "execution_count": 33,
   "id": "93234df9-fbf4-4028-a6ad-3470d69dc4d0",
   "metadata": {},
   "outputs": [
    {
     "name": "stdout",
     "output_type": "stream",
     "text": [
      "1/1 [==============================] - 1s 599ms/step\n",
      "[[0.4987748]\n",
      " [0.4990409]]\n",
      "[[0.]\n",
      " [0.]]\n"
     ]
    }
   ],
   "source": [
    "# 예측\n",
    "sentence = [\"granny starting to fear spiders in the garden might be real\",\n",
    "            \"game of thrones season finale showing this sunday night\"]\n",
    "sequences = tokenizer.texts_to_sequences(sentence)\n",
    "padded = pad_sequences(sequences,maxlen=max_length,padding=padding_type,\n",
    "                       truncating=trunc_type)\n",
    "padded.shape  # (2,100)\n",
    "preds = model.predict(padded)\n",
    "print(preds)\n",
    "print(np.round(preds))"
   ]
  },
  {
   "cell_type": "code",
   "execution_count": 34,
   "id": "4eba3408-7f30-4dd4-b927-d767d35edad3",
   "metadata": {},
   "outputs": [
    {
     "name": "stdout",
     "output_type": "stream",
     "text": [
      "(2, 100)\n",
      "1/1 [==============================] - 0s 16ms/step\n",
      "[[0.4986562]\n",
      " [0.4986562]]\n",
      "[[0.]\n",
      " [0.]]\n"
     ]
    }
   ],
   "source": [
    "# 예측\n",
    "sentence = [\"Head of Canada's spy agency announces he's stepping down from the job\",\n",
    "            \"Old Video of Joe Biden Talking About Resignation Falsely Shared as Recent\"]\n",
    "           \n",
    "sequences = tokenizer.texts_to_sequences(sentence)\n",
    "padded = pad_sequences(sequences,maxlen=max_length,padding=padding_type,\n",
    "                       truncating=trunc_type)\n",
    "print(padded.shape)  # (2,100)\n",
    "preds = model.predict(padded)\n",
    "print(preds)\n",
    "print(np.round(preds))"
   ]
  },
  {
   "cell_type": "markdown",
   "id": "07bf410d-ffa2-4f47-bd83-324a4374aa99",
   "metadata": {},
   "source": [
    "### Keras Tokenizer 설명"
   ]
  },
  {
   "cell_type": "code",
   "execution_count": 31,
   "id": "3c316fd5-1ff3-42b3-911e-faa86c30acc2",
   "metadata": {},
   "outputs": [
    {
     "name": "stdout",
     "output_type": "stream",
     "text": [
      "\n",
      "Word Index =  {'<OOV>': 1, 'my': 2, 'love': 3, 'dog': 4, 'i': 5, 'you': 6, 'cat': 7, 'do': 8, 'think': 9, 'is': 10, 'amazing': 11}\n",
      "\n",
      "Sequences =  [[5, 3, 2, 4], [5, 3, 2, 7], [6, 3, 2, 4], [8, 6, 9, 2, 4, 10, 11]]\n",
      "\n",
      "Padded Sequences:\n",
      "[[ 0  5  3  2  4]\n",
      " [ 0  5  3  2  7]\n",
      " [ 0  6  3  2  4]\n",
      " [ 9  2  4 10 11]]\n",
      "\n",
      "Test Sequence =  [[5, 1, 3, 2, 4], [2, 4, 1, 2, 1]]\n",
      "\n",
      "Padded Test Sequence: \n",
      "[[0 0 0 0 0 5 1 3 2 4]\n",
      " [0 0 0 0 0 2 4 1 2 1]]\n"
     ]
    }
   ],
   "source": [
    "import tensorflow as tf\n",
    "from tensorflow import keras\n",
    "\n",
    "\n",
    "from tensorflow.keras.preprocessing.text import Tokenizer\n",
    "from tensorflow.keras.preprocessing.sequence import pad_sequences\n",
    "\n",
    "sentences = [\n",
    "    'I love my dog',\n",
    "    'I love my cat',\n",
    "    'You love my dog!',\n",
    "    'Do you think my dog is amazing?'\n",
    "]\n",
    "\n",
    "tokenizer = Tokenizer(num_words = 100, oov_token=\"<OOV>\")\n",
    "tokenizer.fit_on_texts(sentences)\n",
    "word_index = tokenizer.word_index\n",
    "\n",
    "sequences = tokenizer.texts_to_sequences(sentences)\n",
    "\n",
    "padded = pad_sequences(sequences, maxlen=5)\n",
    "print(\"\\nWord Index = \" , word_index)\n",
    "print(\"\\nSequences = \" , sequences)\n",
    "print(\"\\nPadded Sequences:\")\n",
    "print(padded)\n",
    "\n",
    "\n",
    "# Try with words that the tokenizer wasn't fit to\n",
    "test_data = [\n",
    "    'i really love my dog',\n",
    "    'my dog loves my manatee'\n",
    "]\n",
    "\n",
    "test_seq = tokenizer.texts_to_sequences(test_data)\n",
    "print(\"\\nTest Sequence = \", test_seq)\n",
    "\n",
    "padded = pad_sequences(test_seq, maxlen=10)\n",
    "print(\"\\nPadded Test Sequence: \")\n",
    "print(padded)"
   ]
  }
 ],
 "metadata": {
  "kernelspec": {
   "display_name": "Python 3 (ipykernel)",
   "language": "python",
   "name": "python3"
  },
  "language_info": {
   "codemirror_mode": {
    "name": "ipython",
    "version": 3
   },
   "file_extension": ".py",
   "mimetype": "text/x-python",
   "name": "python",
   "nbconvert_exporter": "python",
   "pygments_lexer": "ipython3",
   "version": "3.10.6"
  }
 },
 "nbformat": 4,
 "nbformat_minor": 5
}
