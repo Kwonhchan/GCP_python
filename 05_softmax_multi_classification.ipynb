{
 "cells": [
  {
   "cell_type": "code",
   "execution_count": 1,
   "id": "e9848579-9f73-42fa-9a21-ce92382984b8",
   "metadata": {},
   "outputs": [],
   "source": [
    "# softmax_zoo_multi_classification\n",
    "\n",
    "# multi-classification\n",
    "# multi-normal classification (다중 분류) : Y값의 범주가 3개 이상인 분류\n",
    "# "
   ]
  },
  {
   "cell_type": "code",
   "execution_count": 2,
   "id": "763c0c4a-c719-43a0-80c9-45959448ebcf",
   "metadata": {},
   "outputs": [],
   "source": [
    "import tensorflow as tf\n",
    "import numpy as np\n",
    "tf.random.set_seed(42)"
   ]
  },
  {
   "cell_type": "code",
   "execution_count": 3,
   "id": "c03491a2-72ea-44a2-a1a7-4a2778cd63fa",
   "metadata": {},
   "outputs": [
    {
     "name": "stdout",
     "output_type": "stream",
     "text": [
      "(70, 16) (70, 1)\n",
      "(31, 16) (31, 1)\n"
     ]
    }
   ],
   "source": [
    "xy = np.loadtxt(\"data-04-zoo.csv\", delimiter=',',dtype=np.float32)\n",
    "xy.shape #(101,17)\n",
    "\n",
    "#학습 데이터 분리 70%\n",
    "x_train = xy[:70,:-1]\n",
    "y_train = xy[:70,[-1]]\n",
    "print(x_train.shape,y_train.shape)\n",
    "#검증 데이터 분리 30%\n",
    "x_test = xy[70:,:-1]\n",
    "y_test = xy[70:,[-1]]\n",
    "print(x_test.shape,y_test.shape)"
   ]
  },
  {
   "cell_type": "code",
   "execution_count": 4,
   "id": "a3b49609-3009-4e54-9a12-978fe3fc4779",
   "metadata": {},
   "outputs": [
    {
     "name": "stdout",
     "output_type": "stream",
     "text": [
      "(70, 1, 7)\n",
      "(70, 7)\n"
     ]
    }
   ],
   "source": [
    "# One-hot 인코딩\n",
    "# 1 - [ 1, 0, 0, 0, 0, 0, 0]\n",
    "# 1 - [ 0, 1, 0, 0, 0, 0, 0]\n",
    "#.....\n",
    "# 7 - [ 0, 0, 0, 0, 0, 0, 1]\n",
    "nb_classes = 7\n",
    "Y_one_hot = tf.one_hot(y_train, nb_classes)\n",
    "print(Y_one_hot.shape)\n",
    "Y_one_hot = tf.reshape(Y_one_hot,[-1,nb_classes])\n",
    "print(Y_one_hot.shape)"
   ]
  },
  {
   "cell_type": "code",
   "execution_count": 5,
   "id": "680c0a33-a3e1-43a5-8abd-1df8f30c8bad",
   "metadata": {},
   "outputs": [],
   "source": [
    "#변수 초기화\n",
    "# (70,16) * (16,7) = (70,7)\n",
    "\n",
    "W = tf.Variable(tf.random.normal([16, nb_classes]),name='weight')\n",
    "b = tf.Variable(tf.random.normal([nb_classes]),name='bias')"
   ]
  },
  {
   "cell_type": "code",
   "execution_count": 20,
   "id": "dcbadc68-22b3-4357-aaaf-d906047bf823",
   "metadata": {},
   "outputs": [],
   "source": [
    "# 예측 함수(hypothesis) : H(x) = softmax(W*X + b)\n",
    "def logits(X):\n",
    "    return tf.matmul(X,W) + b\n",
    "    \n",
    "def hypothesis(X):\n",
    "    return tf.nn.softmax(logits(X))"
   ]
  },
  {
   "cell_type": "code",
   "execution_count": 21,
   "id": "17e77c3b-fc15-4e19-9708-96c9ed8ea119",
   "metadata": {},
   "outputs": [],
   "source": [
    "# 비용함수 구현 방법 : tf.nn.softmax_cross_entropy_with_logits() 함수 사용\n",
    "def cost_func():\n",
    "    cost_i = tf.nn.softmax_cross_entropy_with_logits(logits=logits(x_train),\n",
    "                                                     labels = Y_one_hot)\n",
    "    cost = tf.reduce_mean(cost_i)\n",
    "    return cost"
   ]
  },
  {
   "cell_type": "code",
   "execution_count": 22,
   "id": "108f71c8-69cf-45b8-913b-0c2777c85c75",
   "metadata": {},
   "outputs": [],
   "source": [
    "optimizer = tf.keras.optimizers.Adam(learning_rate=0.01)"
   ]
  },
  {
   "cell_type": "code",
   "execution_count": 23,
   "id": "40d2be35-f319-4377-ad49-4f2d497c7a5f",
   "metadata": {
    "scrolled": true
   },
   "outputs": [
    {
     "name": "stdout",
     "output_type": "stream",
     "text": [
      "***** Start Learning!!\n",
      "0000 손실 값: [ 1.07288336e-07 ]\n",
      "0100 손실 값: [ 7.663452e-08 ]\n",
      "0200 손실 값: [ 6.982256e-08 ]\n",
      "0300 손실 값: [ 6.641659e-08 ]\n",
      "0400 손실 값: [ 5.960463e-08 ]\n",
      "0500 손실 값: [ 4.768371e-08 ]\n",
      "0600 손실 값: [ 4.598072e-08 ]\n",
      "0700 손실 값: [ 4.598072e-08 ]\n",
      "0800 손실 값: [ 4.427773e-08 ]\n",
      "0900 손실 값: [ 3.23568e-08 ]\n",
      "1000 손실 값: [ 3.0653812e-08 ]\n",
      "1100 손실 값: [ 2.8950824e-08 ]\n",
      "1200 손실 값: [ 2.0435875e-08 ]\n",
      "1300 손실 값: [ 1.5326906e-08 ]\n",
      "1400 손실 값: [ 1.7029896e-08 ]\n",
      "1500 손실 값: [ 1.5326906e-08 ]\n",
      "1600 손실 값: [ 1.5326906e-08 ]\n",
      "1700 손실 값: [ 1.7029896e-08 ]\n",
      "1800 손실 값: [ 1.7029896e-08 ]\n",
      "1900 손실 값: [ 1.7029896e-08 ]\n",
      "2000 손실 값: [ 1.5326906e-08 ]\n",
      "2100 손실 값: [ 1.5326906e-08 ]\n",
      "2200 손실 값: [ 6.8119586e-09 ]\n",
      "2300 손실 값: [ 6.8119586e-09 ]\n",
      "2400 손실 값: [ 6.8119586e-09 ]\n",
      "2500 손실 값: [ 6.8119586e-09 ]\n",
      "2600 손실 값: [ 6.8119586e-09 ]\n",
      "2700 손실 값: [ 6.8119586e-09 ]\n",
      "2800 손실 값: [ 5.108969e-09 ]\n",
      "2900 손실 값: [ 8.514948e-09 ]\n",
      "3000 손실 값: [ 6.8119586e-09 ]\n",
      "3100 손실 값: [ 5.108969e-09 ]\n",
      "3200 손실 값: [ 6.8119586e-09 ]\n",
      "3300 손실 값: [ 5.108969e-09 ]\n",
      "3400 손실 값: [ 5.108969e-09 ]\n",
      "3500 손실 값: [ 5.108969e-09 ]\n",
      "3600 손실 값: [ 6.8119586e-09 ]\n",
      "3700 손실 값: [ 5.108969e-09 ]\n",
      "3800 손실 값: [ 8.514948e-09 ]\n",
      "3900 손실 값: [ 6.8119586e-09 ]\n",
      "4000 손실 값: [ 6.8119586e-09 ]\n",
      "4100 손실 값: [ 5.108969e-09 ]\n",
      "4200 손실 값: [ 5.108969e-09 ]\n",
      "4300 손실 값: [ 1.0217938e-08 ]\n",
      "4400 손실 값: [ 5.108969e-09 ]\n",
      "4500 손실 값: [ 6.8119586e-09 ]\n",
      "4600 손실 값: [ 6.8119586e-09 ]\n",
      "4700 손실 값: [ 8.514948e-09 ]\n",
      "4800 손실 값: [ 5.108969e-09 ]\n",
      "4900 손실 값: [ 5.108969e-09 ]\n",
      "5000 손실 값: [ 6.8119586e-09 ]\n",
      "5100 손실 값: [ 8.514948e-09 ]\n",
      "5200 손실 값: [ 6.8119586e-09 ]\n",
      "5300 손실 값: [ 6.8119586e-09 ]\n",
      "5400 손실 값: [ 8.514948e-09 ]\n",
      "5500 손실 값: [ 1.1920927e-08 ]\n",
      "5600 손실 값: [ 6.8119586e-09 ]\n",
      "5700 손실 값: [ 8.514948e-09 ]\n",
      "5800 손실 값: [ 8.514948e-09 ]\n",
      "5900 손실 값: [ 6.8119586e-09 ]\n",
      "6000 손실 값: [ 1.0217938e-08 ]\n",
      "6100 손실 값: [ 1.3623916e-08 ]\n",
      "6200 손실 값: [ 5.108969e-09 ]\n",
      "6300 손실 값: [ 6.8119586e-09 ]\n",
      "6400 손실 값: [ 6.8119586e-09 ]\n",
      "6500 손실 값: [ 6.8119586e-09 ]\n",
      "6600 손실 값: [ 6.8119586e-09 ]\n",
      "6700 손실 값: [ 8.514948e-09 ]\n",
      "6800 손실 값: [ 5.108969e-09 ]\n",
      "6900 손실 값: [ 6.8119586e-09 ]\n",
      "7000 손실 값: [ 3.4059793e-09 ]\n",
      "7100 손실 값: [ 6.8119586e-09 ]\n",
      "7200 손실 값: [ 5.108969e-09 ]\n",
      "7300 손실 값: [ 8.514948e-09 ]\n",
      "7400 손실 값: [ 6.8119586e-09 ]\n",
      "7500 손실 값: [ 5.108969e-09 ]\n",
      "7600 손실 값: [ 6.8119586e-09 ]\n",
      "7700 손실 값: [ 6.8119586e-09 ]\n",
      "7800 손실 값: [ 6.8119586e-09 ]\n",
      "7900 손실 값: [ 5.108969e-09 ]\n",
      "8000 손실 값: [ 5.108969e-09 ]\n",
      "8100 손실 값: [ 3.4059793e-09 ]\n",
      "8200 손실 값: [ 8.514948e-09 ]\n",
      "8300 손실 값: [ 5.108969e-09 ]\n",
      "8400 손실 값: [ 6.8119586e-09 ]\n",
      "8500 손실 값: [ 3.4059793e-09 ]\n",
      "8600 손실 값: [ 5.108969e-09 ]\n",
      "8700 손실 값: [ 6.8119586e-09 ]\n",
      "8800 손실 값: [ 6.8119586e-09 ]\n",
      "8900 손실 값: [ 3.4059793e-09 ]\n",
      "9000 손실 값: [ 6.8119586e-09 ]\n",
      "9100 손실 값: [ 5.108969e-09 ]\n",
      "9200 손실 값: [ 5.108969e-09 ]\n",
      "9300 손실 값: [ 3.4059793e-09 ]\n",
      "9400 손실 값: [ 5.108969e-09 ]\n",
      "9500 손실 값: [ 5.108969e-09 ]\n",
      "9600 손실 값: [ 5.108969e-09 ]\n",
      "9700 손실 값: [ 8.514948e-09 ]\n",
      "9800 손실 값: [ 5.108969e-09 ]\n",
      "9900 손실 값: [ 3.4059793e-09 ]\n",
      "***** Learning Finished!!\n"
     ]
    }
   ],
   "source": [
    "# 학습 시작\n",
    "print('***** Start Learning!!')\n",
    "for step in range(10000):\n",
    "    with tf.GradientTape() as tape:\n",
    "        cost = cost_func()\n",
    "    gradients = tape.gradient(cost, [W, b])\n",
    "    optimizer.apply_gradients(zip(gradients, [W, b]))\n",
    "    \n",
    "    if step % 100 == 0:\n",
    "        print('%04d' % step, '손실 값: [', cost.numpy(), ']')\n",
    "print('***** Learning Finished!!')"
   ]
  },
  {
   "cell_type": "code",
   "execution_count": 30,
   "id": "df415216-dc53-4f0a-a25d-7692085b91f7",
   "metadata": {},
   "outputs": [
    {
     "name": "stdout",
     "output_type": "stream",
     "text": [
      "(31, 1, 7)\n",
      "(31, 7)\n",
      "Accuracy: 0.83870965\n"
     ]
    }
   ],
   "source": [
    "# 정확도 측정 : accuracy computation\n",
    "\n",
    "# y_test 값의 one-hot 인코딩\n",
    "Y_one_hot = tf.one_hot(y_test,nb_classes)   \n",
    "print(Y_one_hot.shape)                       # [31,1,7]  , Rank=3 (3차원)\n",
    "Y_one_hot = tf.reshape(Y_one_hot,[-1,nb_classes])\n",
    "print(Y_one_hot.shape)                       # [31,7]  , Rank=2 (2차원)\n",
    "\n",
    "\n",
    "# tf.argmax() : 값이 가장 큰 요소의 인덱스 값을 반환\n",
    "def predict(X):\n",
    "    return tf.argmax(hypothesis(X),axis=1)\n",
    "\n",
    "correct_predict = tf.equal(predict(x_test),tf.argmax(Y_one_hot,1))\n",
    "accuracy = tf.reduce_mean(tf.cast(correct_predict, dtype = tf.float32))\n",
    "print(\"Accuracy:\",accuracy.numpy())"
   ]
  },
  {
   "cell_type": "code",
   "execution_count": 32,
   "id": "2162b64f-a8e4-4dab-9d0f-f18be3d7aeb5",
   "metadata": {},
   "outputs": [
    {
     "data": {
      "text/plain": [
       "<tf.Tensor: shape=(), dtype=float32, numpy=26.0>"
      ]
     },
     "execution_count": 32,
     "metadata": {},
     "output_type": "execute_result"
    }
   ],
   "source": [
    "tf.reduce_sum(tf.cast(correct_predict, dtype = tf.float32))"
   ]
  },
  {
   "cell_type": "code",
   "execution_count": 33,
   "id": "babb3044-e827-44f8-a545-449ebca617d6",
   "metadata": {},
   "outputs": [
    {
     "data": {
      "text/plain": [
       "array([0, 1, 5, 3, 0, 0, 2, 6, 1, 1, 2, 5, 3, 1, 0, 6, 3, 1, 5, 4, 1, 4,\n",
       "       3, 0, 0, 1, 0, 5, 0, 5, 1], dtype=int64)"
      ]
     },
     "execution_count": 33,
     "metadata": {},
     "output_type": "execute_result"
    }
   ],
   "source": [
    "#예측\n",
    "pred = predict(x_test).numpy()\n",
    "pred"
   ]
  },
  {
   "cell_type": "code",
   "execution_count": 34,
   "id": "25ad5ae1-d05d-4018-8920-fabe1d108c0b",
   "metadata": {},
   "outputs": [
    {
     "name": "stdout",
     "output_type": "stream",
     "text": [
      "[True] Prediction: 0 / Real Y: 0\n",
      "[True] Prediction: 1 / Real Y: 1\n",
      "[False] Prediction: 5 / Real Y: 6\n",
      "[True] Prediction: 3 / Real Y: 3\n",
      "[True] Prediction: 0 / Real Y: 0\n",
      "[True] Prediction: 0 / Real Y: 0\n",
      "[True] Prediction: 2 / Real Y: 2\n",
      "[True] Prediction: 6 / Real Y: 6\n",
      "[True] Prediction: 1 / Real Y: 1\n",
      "[True] Prediction: 1 / Real Y: 1\n",
      "[True] Prediction: 2 / Real Y: 2\n",
      "[False] Prediction: 5 / Real Y: 6\n",
      "[True] Prediction: 3 / Real Y: 3\n",
      "[True] Prediction: 1 / Real Y: 1\n",
      "[True] Prediction: 0 / Real Y: 0\n",
      "[True] Prediction: 6 / Real Y: 6\n",
      "[True] Prediction: 3 / Real Y: 3\n",
      "[True] Prediction: 1 / Real Y: 1\n",
      "[True] Prediction: 5 / Real Y: 5\n",
      "[True] Prediction: 4 / Real Y: 4\n",
      "[False] Prediction: 1 / Real Y: 2\n",
      "[False] Prediction: 4 / Real Y: 2\n",
      "[True] Prediction: 3 / Real Y: 3\n",
      "[True] Prediction: 0 / Real Y: 0\n",
      "[True] Prediction: 0 / Real Y: 0\n",
      "[True] Prediction: 1 / Real Y: 1\n",
      "[True] Prediction: 0 / Real Y: 0\n",
      "[True] Prediction: 5 / Real Y: 5\n",
      "[True] Prediction: 0 / Real Y: 0\n",
      "[False] Prediction: 5 / Real Y: 6\n",
      "[True] Prediction: 1 / Real Y: 1\n"
     ]
    }
   ],
   "source": [
    "for p,y in zip(pred, y_test.flatten()):\n",
    "    print(\"[{}] Prediction: {} / Real Y: {}\".format(p == int(y), p, int(y)))"
   ]
  },
  {
   "cell_type": "code",
   "execution_count": null,
   "id": "4a6c752f-91a6-4f25-8d0e-ba53f63873ac",
   "metadata": {},
   "outputs": [],
   "source": []
  }
 ],
 "metadata": {
  "kernelspec": {
   "display_name": "Python 3 (ipykernel)",
   "language": "python",
   "name": "python3"
  },
  "language_info": {
   "codemirror_mode": {
    "name": "ipython",
    "version": 3
   },
   "file_extension": ".py",
   "mimetype": "text/x-python",
   "name": "python",
   "nbconvert_exporter": "python",
   "pygments_lexer": "ipython3",
   "version": "3.10.6"
  }
 },
 "nbformat": 4,
 "nbformat_minor": 5
}
