{
 "cells": [
  {
   "cell_type": "markdown",
   "id": "997e7b15-05e4-4ffa-991c-af1ab4dd2ce7",
   "metadata": {},
   "source": [
    "### * RNN 주요 레이어 종류\n",
    "#### (1) SimpleRNN :가장 간단한 형태의 RNN레이어, 활성화 함수로 tanh가 사용됨(tanh: -1 ~ 1 사이의 값을 반환)\n",
    "#### (2) LSTM(Long short Term Memory) : 입력 데이터와 출력 사이의 거리가 멀어질수로 연관 관계가 적어진다(Long Term Dependency,장기의존성 문제), LSTM은 장기 의존성 문제를 해결하기 위해 출력값외에 셀상태(cell state)값을 출력함, 활성화 함수로 tanh외에 sigmoid가 사용됨\n",
    "#### (3) GRU(Gated Recurent Unit) : 뉴욕대 조경현 교수 등이 제안, LSTM보다 구조가 간단하고 성능이 우수함"
   ]
  },
  {
   "cell_type": "code",
   "execution_count": 2,
   "id": "55b5c92a-5a04-4acb-ae18-cd0e0f9086fe",
   "metadata": {},
   "outputs": [],
   "source": [
    "import tensorflow as tf\n",
    "import numpy as np"
   ]
  },
  {
   "cell_type": "code",
   "execution_count": 3,
   "id": "c250a550-283f-4fcd-b3b2-5265766020c5",
   "metadata": {
    "scrolled": true
   },
   "outputs": [
    {
     "name": "stdout",
     "output_type": "stream",
     "text": [
      "(6, 4, 1) (6,)\n"
     ]
    },
    {
     "data": {
      "text/plain": [
       "<tf.Tensor: shape=(6, 4, 1), dtype=float32, numpy=\n",
       "array([[[0.],\n",
       "        [1.],\n",
       "        [2.],\n",
       "        [3.]],\n",
       "\n",
       "       [[1.],\n",
       "        [2.],\n",
       "        [3.],\n",
       "        [4.]],\n",
       "\n",
       "       [[2.],\n",
       "        [3.],\n",
       "        [4.],\n",
       "        [5.]],\n",
       "\n",
       "       [[3.],\n",
       "        [4.],\n",
       "        [5.],\n",
       "        [6.]],\n",
       "\n",
       "       [[4.],\n",
       "        [5.],\n",
       "        [6.],\n",
       "        [7.]],\n",
       "\n",
       "       [[5.],\n",
       "        [6.],\n",
       "        [7.],\n",
       "        [8.]]], dtype=float32)>"
      ]
     },
     "execution_count": 3,
     "metadata": {},
     "output_type": "execute_result"
    }
   ],
   "source": [
    "# Sequence data\n",
    "X = np.array([[0,1,2,3],\n",
    "              [1,2,3,4],\n",
    "              [2,3,4,5],\n",
    "              [3,4,5,6],\n",
    "              [4,5,6,7],\n",
    "              [5,6,7,8]],dtype=np.float32)\n",
    "\n",
    "x_data = tf.reshape(X,(-1,4,1))  # (6,4,1)\n",
    "\n",
    "y_data = np.array([4,5,6,7,8,9],dtype=np.float32)\n",
    "\n",
    "print(x_data.shape,y_data.shape)\n",
    "# print(type(x_data),type(y_data))\n",
    "x_data"
   ]
  },
  {
   "cell_type": "markdown",
   "id": "fe0a9315-f3e2-411f-9ebe-4f63f97a3364",
   "metadata": {},
   "source": [
    "## [1]SimpleRNN\n",
    "### 가장 간단한 형태의 RNN"
   ]
  },
  {
   "cell_type": "code",
   "execution_count": 9,
   "id": "6f67ba8b-7f94-4005-91c5-0382c0018802",
   "metadata": {},
   "outputs": [
    {
     "name": "stdout",
     "output_type": "stream",
     "text": [
      "Model: \"sequential_5\"\n",
      "_________________________________________________________________\n",
      " Layer (type)                Output Shape              Param #   \n",
      "=================================================================\n",
      " simple_rnn_9 (SimpleRNN)    (None, 4, 3)              15        \n",
      "                                                                 \n",
      " simple_rnn_10 (SimpleRNN)   (None, 3)                 21        \n",
      "                                                                 \n",
      " dense_2 (Dense)             (None, 1)                 4         \n",
      "                                                                 \n",
      "=================================================================\n",
      "Total params: 40\n",
      "Trainable params: 40\n",
      "Non-trainable params: 0\n",
      "_________________________________________________________________\n"
     ]
    }
   ],
   "source": [
    "# RNN 순환 신경망 구현 : SimpleRNN\n",
    "model = tf.keras.Sequential([\n",
    "    # X: (N,D) , Wx: (D,H), Wh( (H,H), b: H\n",
    "    #    (6,1),      (1,300)      (300,300)     300 --> 1*300+300*300+300 = 1500개의 Param\n",
    "    # (N,T,D) : (6,4,1,) ---> (N,T,H) : (6,4,300) , T는 sequence_Length, H는 Hidden Size\n",
    "    # return_sequence=True는 3차원(N,T,H) 으로 출력\n",
    "    # return_sequence=False는 2차원(N,H) 으로 출력, 기본 값\n",
    "    tf.keras.layers.SimpleRNN(units=300, return_sequences=True,input_shape=([4,1])),\n",
    "    tf.keras.layers.SimpleRNN(units=300),\n",
    "    tf.keras.layers.Dense(1)\n",
    "])\n",
    "\n",
    "\n",
    "model.compile(optimizer='adam', loss='mse')\n",
    "model.summary()"
   ]
  },
  {
   "cell_type": "code",
   "execution_count": 11,
   "id": "c458604f-ad9c-44bc-9cdd-d41cd69a7dd8",
   "metadata": {},
   "outputs": [
    {
     "name": "stdout",
     "output_type": "stream",
     "text": [
      "Epoch 1/10\n",
      "1/1 [==============================] - 2s 2s/step - loss: 40.6130\n",
      "Epoch 2/10\n",
      "1/1 [==============================] - 0s 11ms/step - loss: 40.5319\n",
      "Epoch 3/10\n",
      "1/1 [==============================] - 0s 12ms/step - loss: 40.4530\n",
      "Epoch 4/10\n",
      "1/1 [==============================] - 0s 15ms/step - loss: 40.3730\n",
      "Epoch 5/10\n",
      "1/1 [==============================] - 0s 18ms/step - loss: 40.2945\n",
      "Epoch 6/10\n",
      "1/1 [==============================] - 0s 10ms/step - loss: 40.2171\n",
      "Epoch 7/10\n",
      "1/1 [==============================] - 0s 15ms/step - loss: 40.1397\n",
      "Epoch 8/10\n",
      "1/1 [==============================] - 0s 14ms/step - loss: 40.0617\n",
      "Epoch 9/10\n",
      "1/1 [==============================] - 0s 16ms/step - loss: 39.9844\n",
      "Epoch 10/10\n",
      "1/1 [==============================] - 0s 14ms/step - loss: 39.9044\n"
     ]
    },
    {
     "data": {
      "text/plain": [
       "<keras.callbacks.History at 0x1c38ed873d0>"
      ]
     },
     "execution_count": 11,
     "metadata": {},
     "output_type": "execute_result"
    }
   ],
   "source": [
    "model.fit(x_data,y_data,epochs=10)"
   ]
  },
  {
   "cell_type": "code",
   "execution_count": 12,
   "id": "73c09bf1-f26a-49d0-b9fa-7879b1aa317e",
   "metadata": {},
   "outputs": [
    {
     "name": "stdout",
     "output_type": "stream",
     "text": [
      "1/1 [==============================] - 0s 130ms/step\n",
      "[[0.4281078]]\n",
      "1/1 [==============================] - 0s 12ms/step\n",
      "[[0.1431872]]\n",
      "1/1 [==============================] - 0s 134ms/step - loss: 39.8276\n"
     ]
    },
    {
     "data": {
      "text/plain": [
       "39.82759475708008"
      ]
     },
     "execution_count": 12,
     "metadata": {},
     "output_type": "execute_result"
    }
   ],
   "source": [
    "# 학습되지 않은 입력 데이터에 대한 예측 결과\n",
    "print(model.predict(np.array([[[6.],[7.],[8.],[9.]]])))\n",
    "print(model.predict(np.array([[[-1.],[0.],[1.],[2.]]])))\n",
    "# 평가\n",
    "model.evaluate(x_data, y_data)"
   ]
  },
  {
   "cell_type": "markdown",
   "id": "5f861b74-5f51-4ba9-aff1-6128a5090b83",
   "metadata": {},
   "source": [
    "### [2] LSTM(Long short Term Memory)\n",
    "#### 입력 데이터와 출력 사이의 거리가 멀어질수로 연관 관계가 적어진다(Long Term Dependency,장기의존성 문제)\n",
    "#### LSTM은 장기 의존성 문제를 해결하기 위해 출력값외에 셀상태(cell state)값을 출력함"
   ]
  },
  {
   "cell_type": "code",
   "execution_count": 13,
   "id": "8cd991fb-5a9e-4527-90b9-4fe6d0e4c291",
   "metadata": {},
   "outputs": [
    {
     "name": "stdout",
     "output_type": "stream",
     "text": [
      "Model: \"sequential_6\"\n",
      "_________________________________________________________________\n",
      " Layer (type)                Output Shape              Param #   \n",
      "=================================================================\n",
      " lstm (LSTM)                 (None, 4, 300)            362400    \n",
      "                                                                 \n",
      " lstm_1 (LSTM)               (None, 300)               721200    \n",
      "                                                                 \n",
      " dense_3 (Dense)             (None, 1)                 301       \n",
      "                                                                 \n",
      "=================================================================\n",
      "Total params: 1,083,901\n",
      "Trainable params: 1,083,901\n",
      "Non-trainable params: 0\n",
      "_________________________________________________________________\n"
     ]
    }
   ],
   "source": [
    "# RNN 순환 신경망 구현 : LSTM\n",
    "model = tf.keras.Sequential([\n",
    "    # X: (N,D) , Wx: (D,4H), Wh( (H,4H), b: H\n",
    "    #    (6,1),      (1,300*4)      (300,300*4)     300*4 --> 1*300*4+300*300*4+300*4 = 4*90600개의 Param\n",
    "    # (N,T,D) : (6,4,1,) ---> (N,T,H) : (6,4,300) , T는 sequence_Length, H는 Hidden Size\n",
    "    # return_sequence=True는 3차원(N,T,H) 으로 출력\n",
    "    # return_sequence=False는 2차원(N,H) 으로 출력, 기본 값\n",
    "    tf.keras.layers.LSTM(units=300, return_sequences=True,input_shape=([4,1])),\n",
    "    tf.keras.layers.LSTM(units=300),\n",
    "    tf.keras.layers.Dense(1)\n",
    "])\n",
    "\n",
    "\n",
    "model.compile(optimizer='adam', loss='mse')\n",
    "model.summary()"
   ]
  },
  {
   "cell_type": "code",
   "execution_count": 15,
   "id": "9d5d85b4-db0d-495d-b5e2-686148862777",
   "metadata": {},
   "outputs": [
    {
     "name": "stdout",
     "output_type": "stream",
     "text": [
      "1/1 [==============================] - 0s 11ms/step\n",
      "[[3.703652 ]\n",
      " [5.0507503]\n",
      " [6.1996517]\n",
      " [7.18532  ]\n",
      " [8.029896 ]\n",
      " [8.74765  ]]\n"
     ]
    }
   ],
   "source": [
    "model.fit(x_data,y_data,epochs=100,verbose=0)\n",
    "print(model.predict(x_data))"
   ]
  },
  {
   "cell_type": "markdown",
   "id": "8480963e-c41a-4d42-8d77-231dafbdd1b4",
   "metadata": {},
   "source": [
    "### [3] GRU(Gated Recurent Unit)\n",
    "#### 뉴욕대 조경현 교수 등이 제안, LSTM보다 구조가 간단하고 성능이 우수"
   ]
  },
  {
   "cell_type": "code",
   "execution_count": 17,
   "id": "aeafdef6-d34d-4419-8c67-f4e1d5aa79a7",
   "metadata": {},
   "outputs": [
    {
     "name": "stdout",
     "output_type": "stream",
     "text": [
      "Model: \"sequential_7\"\n",
      "_________________________________________________________________\n",
      " Layer (type)                Output Shape              Param #   \n",
      "=================================================================\n",
      " gru (GRU)                   (None, 4, 300)            272700    \n",
      "                                                                 \n",
      " gru_1 (GRU)                 (None, 300)               541800    \n",
      "                                                                 \n",
      " dense_4 (Dense)             (None, 1)                 301       \n",
      "                                                                 \n",
      "=================================================================\n",
      "Total params: 814,801\n",
      "Trainable params: 814,801\n",
      "Non-trainable params: 0\n",
      "_________________________________________________________________\n"
     ]
    }
   ],
   "source": [
    "# RNN 순환 신경망 구현 : GRU\n",
    "model = tf.keras.Sequential([\n",
    "    tf.keras.layers.GRU(units=300, return_sequences=True,input_shape=([4,1])),\n",
    "    tf.keras.layers.GRU(units=300),\n",
    "    tf.keras.layers.Dense(1)\n",
    "])\n",
    "\n",
    "\n",
    "model.compile(optimizer='adam', loss='mse')\n",
    "model.summary()"
   ]
  },
  {
   "cell_type": "code",
   "execution_count": 18,
   "id": "f566bb7e-1963-4d78-8052-5300626f6aa2",
   "metadata": {},
   "outputs": [
    {
     "name": "stdout",
     "output_type": "stream",
     "text": [
      "1/1 [==============================] - 0s 262ms/step\n",
      "[[3.6354423]\n",
      " [5.0283647]\n",
      " [6.2181554]\n",
      " [7.212613 ]\n",
      " [8.031939 ]\n",
      " [8.701498 ]]\n"
     ]
    }
   ],
   "source": [
    "model.fit(x_data,y_data,epochs=100,verbose=0)\n",
    "print(model.predict(x_data))"
   ]
  },
  {
   "cell_type": "code",
   "execution_count": null,
   "id": "64c4c8e6-2794-480a-9700-bb0168543834",
   "metadata": {},
   "outputs": [],
   "source": []
  }
 ],
 "metadata": {
  "kernelspec": {
   "display_name": "Python 3 (ipykernel)",
   "language": "python",
   "name": "python3"
  },
  "language_info": {
   "codemirror_mode": {
    "name": "ipython",
    "version": 3
   },
   "file_extension": ".py",
   "mimetype": "text/x-python",
   "name": "python",
   "nbconvert_exporter": "python",
   "pygments_lexer": "ipython3",
   "version": "3.10.6"
  }
 },
 "nbformat": 4,
 "nbformat_minor": 5
}
