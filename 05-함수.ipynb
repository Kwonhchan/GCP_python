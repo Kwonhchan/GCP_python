{
 "cells": [
  {
   "cell_type": "code",
   "execution_count": 7,
   "id": "c4de8276-a7bd-4fa0-943c-78ef8c419243",
   "metadata": {},
   "outputs": [
    {
     "name": "stdin",
     "output_type": "stream",
     "text": [
      " 5 9\n"
     ]
    },
    {
     "name": "stdout",
     "output_type": "stream",
     "text": [
      "add is called\n",
      "14\n"
     ]
    }
   ],
   "source": [
    "#함수 정의\n",
    "def add(a,b):\n",
    "    c = a+b\n",
    "    print(\"add is called\")\n",
    "    return c\n",
    "\n",
    "a,b = input().split()\n",
    "a,b = int(a), int(b)\n",
    "k = add(a,b)\n",
    "print(k)"
   ]
  },
  {
   "cell_type": "code",
   "execution_count": 11,
   "id": "f97be6f8-6d06-46d3-97b4-509773172acc",
   "metadata": {},
   "outputs": [
    {
     "name": "stdin",
     "output_type": "stream",
     "text": [
      " 3 5\n"
     ]
    },
    {
     "data": {
      "text/plain": [
       "('5', '3')"
      ]
     },
     "execution_count": 11,
     "metadata": {},
     "output_type": "execute_result"
    }
   ],
   "source": [
    "def order(a,b):\n",
    "    if a<b:\n",
    "        a,b = b,a\n",
    "    return a,b\n",
    "\n",
    "a, b = input().split()\n",
    "order(a,b)"
   ]
  },
  {
   "cell_type": "code",
   "execution_count": 12,
   "id": "8c7dd592-4601-4204-b0aa-a3c736a39f34",
   "metadata": {},
   "outputs": [],
   "source": [
    "# 함수 사용시 변수의 유효 범위 규칙 (Scope Rule)\n",
    "# local 변수 : 지역 변수  , 변수가 선언된 함수내에서만 사용가능\n",
    "# global 변수 : 전역 변수 , 모든 함수안에서 접근 가능\n",
    "# LEGB 규칙 : Local > Enclosing Function Local > Global > Built-in\n",
    "# 핵심 : 지역변수가 전역변수보다 우선한다!!"
   ]
  },
  {
   "cell_type": "markdown",
   "id": "a24626c5-1b63-4c74-88e6-2649494f6c7e",
   "metadata": {},
   "source": [
    "### 일급함수(First Class Function) : 함수이름을 변수처럼 사용가능하다\r\n",
    "#### (1) 함수객체를 다른 함수의 인자로 전달할 수 있다\r\n",
    "#### (2) 함수객체를 반환 값으로 전달할 수 있다\r\n",
    "#### (3) 함수객체를 다른 자료 구조에 저장해서 사용 가능"
   ]
  },
  {
   "cell_type": "code",
   "execution_count": null,
   "id": "4faaf3d6-c5bd-4306-ae9d-402cdae77538",
   "metadata": {},
   "outputs": [],
   "source": [
    "def add_two(a,b):\n",
    "    print(\"func is called\")\n",
    "    return a+b"
   ]
  },
  {
   "cell_type": "code",
   "execution_count": 13,
   "id": "46342405-4002-4898-8266-54968e3da105",
   "metadata": {},
   "outputs": [
    {
     "name": "stdout",
     "output_type": "stream",
     "text": [
      "foo2 is called!!\n",
      "<class 'function'>\n",
      "bar2 is called!!\n"
     ]
    }
   ],
   "source": [
    "# (2) 함수객체를 반환 값으로 전달할 수 있다\n",
    "def foo2():\n",
    "    print('foo2 is called!!')\n",
    "    \n",
    "    def bar2():\n",
    "        print('bar2 is called!!')\n",
    "        \n",
    "    return bar2    \n",
    "\n",
    "ret = foo2()\n",
    "print(type(ret))\n",
    "ret()"
   ]
  },
  {
   "cell_type": "markdown",
   "id": "6add5cd3-b7ea-4a6a-92bd-9d79b7c3c02f",
   "metadata": {},
   "source": [
    "### 람다(lambda) 함수 , 람다식\r\n",
    "#### : 한줄 짜리 함수식, 식을 정의하는 순간 바로 함수 객체로 사용, 바로 인수로 전달할 수 있다, def 키워드를 사용하지 않는다\r\n",
    "#### 함수명 = lambda 인수1,인수2,..: 반환할 식"
   ]
  },
  {
   "cell_type": "code",
   "execution_count": 14,
   "id": "ec633b97-49b0-4940-9e2e-fe085fe93810",
   "metadata": {},
   "outputs": [
    {
     "data": {
      "text/plain": [
       "4"
      ]
     },
     "execution_count": 14,
     "metadata": {},
     "output_type": "execute_result"
    }
   ],
   "source": [
    "add = lambda a,b : a+b\n",
    "add(1,3)"
   ]
  },
  {
   "cell_type": "code",
   "execution_count": 17,
   "id": "8ed82d96-5927-45f8-8028-9e921d54171c",
   "metadata": {},
   "outputs": [
    {
     "name": "stdout",
     "output_type": "stream",
     "text": [
      "<class 'map'>\n",
      "multi_two is called!!\n",
      "multi_two is called!!\n",
      "multi_two is called!!\n",
      "multi_two is called!!\n",
      "multi_two is called!!\n",
      "multi_two is called!!\n",
      "[2, 4, 6, 8, 10, 12]\n"
     ]
    }
   ],
   "source": [
    "### 파이썬 내장(Built-in) 함수 :map()/max()/min()/sum()/round()/id()/hex()/zip()등 다양한 내장 함수가 존재\n",
    "\n",
    "# map()함수\n",
    "def multi_two(x):\n",
    "    print('multi_two is called!!')\n",
    "    return x*2\n",
    "\n",
    "ret = map(multi_two, [1,2,3,4,5,6])   # map객체를 생성 \n",
    "print(type(ret))                      # <class 'map'>\n",
    "print(list(ret))  # list로 형 변환 , map객체로 데이터 접근시에 함수가 실제 호출됨"
   ]
  },
  {
   "cell_type": "code",
   "execution_count": 19,
   "id": "5326c9ff-486f-4890-bdf8-ca1147bf2788",
   "metadata": {},
   "outputs": [
    {
     "name": "stdout",
     "output_type": "stream",
     "text": [
      "[2, 4, 6, 8, 10, 12]\n"
     ]
    }
   ],
   "source": [
    "ret = map(lambda x : x*2,[1,2,3,4,5,6])\n",
    "print(list(ret))"
   ]
  },
  {
   "cell_type": "code",
   "execution_count": 27,
   "id": "e6adf886-8388-491b-9dbd-3c74b4813872",
   "metadata": {},
   "outputs": [
    {
     "name": "stdin",
     "output_type": "stream",
     "text": [
      " 180\n",
      " 60\n"
     ]
    },
    {
     "name": "stdout",
     "output_type": "stream",
     "text": [
      "68.0 88.23529411764706\n"
     ]
    }
   ],
   "source": [
    "tall = int(input())\n",
    "kg = int(input())\n",
    "avg = lambda tall : (tall-100)*0.85\n",
    "bmi = lambda kg,avg : kg/avg*100\n",
    "avw = avg(tall)\n",
    "bmiv = bmi(kg,avw)\n",
    "print(avw, bmiv)"
   ]
  },
  {
   "cell_type": "code",
   "execution_count": null,
   "id": "c9765ba1-e957-4ef9-91f3-1e5bdf06cb8c",
   "metadata": {},
   "outputs": [],
   "source": []
  }
 ],
 "metadata": {
  "kernelspec": {
   "display_name": "Python 3 (ipykernel)",
   "language": "python",
   "name": "python3"
  },
  "language_info": {
   "codemirror_mode": {
    "name": "ipython",
    "version": 3
   },
   "file_extension": ".py",
   "mimetype": "text/x-python",
   "name": "python",
   "nbconvert_exporter": "python",
   "pygments_lexer": "ipython3",
   "version": "3.11.7"
  }
 },
 "nbformat": 4,
 "nbformat_minor": 5
}
