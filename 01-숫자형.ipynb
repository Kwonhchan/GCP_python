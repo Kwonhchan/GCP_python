{
 "cells": [
  {
   "cell_type": "code",
   "execution_count": 1,
   "id": "794a048b-2133-437b-b29e-67de9c86f84f",
   "metadata": {},
   "outputs": [
    {
     "data": {
      "text/plain": [
       "'3.11.7 | packaged by Anaconda, Inc. | (main, Dec 15 2023, 18:05:47) [MSC v.1916 64 bit (AMD64)]'"
      ]
     },
     "execution_count": 1,
     "metadata": {},
     "output_type": "execute_result"
    }
   ],
   "source": [
    "import sys\n",
    "sys.version"
   ]
  },
  {
   "cell_type": "code",
   "execution_count": 4,
   "id": "7945017c-7300-45a0-a291-118a00451e35",
   "metadata": {},
   "outputs": [
    {
     "name": "stdin",
     "output_type": "stream",
     "text": [
      " 77 77 7777\n"
     ]
    },
    {
     "name": "stdout",
     "output_type": "stream",
     "text": [
      "7931\n"
     ]
    }
   ],
   "source": [
    "a,b,c = input().split(\" \")\n",
    "a,b,c = int(a), int(b), int(c)\n",
    "print(a+b+c)"
   ]
  },
  {
   "cell_type": "code",
   "execution_count": 18,
   "id": "68d8231f-dbff-4dd7-abd7-3722187b55be",
   "metadata": {},
   "outputs": [
    {
     "name": "stdout",
     "output_type": "stream",
     "text": [
      "0x7ff889eec6c8\n",
      "0x7ff889eec808\n",
      "0x7ff889eec6c8\n"
     ]
    }
   ],
   "source": [
    "a = 30\n",
    "print(hex(id(a)))\n",
    "b = 40\n",
    "print(hex(id(b)))\n",
    "b = a\n",
    "print(hex(id(b)))"
   ]
  },
  {
   "cell_type": "code",
   "execution_count": 42,
   "id": "ed17b9c3-a966-4f68-bc26-25bad8c6d229",
   "metadata": {},
   "outputs": [
    {
     "name": "stdout",
     "output_type": "stream",
     "text": [
      "<class 'float'>\n",
      "<class 'int'>\n"
     ]
    }
   ],
   "source": [
    "f = 10.3\n",
    "print(type(f))\n",
    "k = int(f)\n",
    "print(type(k))"
   ]
  },
  {
   "cell_type": "markdown",
   "id": "889c77c9-085f-4081-b549-956ec89e2a63",
   "metadata": {},
   "source": [
    "# 2. 표준 입출력"
   ]
  },
  {
   "cell_type": "code",
   "execution_count": 52,
   "id": "1814db95-9807-4bb5-9e38-ebe2d73e31df",
   "metadata": {},
   "outputs": [
    {
     "name": "stdout",
     "output_type": "stream",
     "text": [
      "  1.235\n",
      "apple       7.770\n",
      "     apple  7.770\n",
      "  apple     7.770\n",
      "apple=====  7.770\n",
      "**apple***  7.770\n"
     ]
    }
   ],
   "source": [
    "print(f'{1.23456:7.3f}')\n",
    "\n",
    "print('{0:<10}{1:7.3f}'.format('apple',7.77)) #10자리 왼쪽 정렬\n",
    "print('{0:>10}{1:7.3f}'.format('apple',7.77)) #10자리 오른쪽\n",
    "print('{0:^10}{1:7.3f}'.format('apple',7.77)) #10자리 가운데 정렬\n",
    "\n",
    "print('{0:=<10}{1:7.3f}'.format('apple',7.77)) #10자리 빈칸 '='로 채우기\n",
    "print('{0:*^10}{1:7.3f}'.format('apple',7.77)) #10자리 빈칸 '*'로 채우기"
   ]
  },
  {
   "cell_type": "code",
   "execution_count": null,
   "id": "621b00af-0500-421b-87de-9b648df4ddd5",
   "metadata": {},
   "outputs": [],
   "source": []
  }
 ],
 "metadata": {
  "kernelspec": {
   "display_name": "Python 3 (ipykernel)",
   "language": "python",
   "name": "python3"
  },
  "language_info": {
   "codemirror_mode": {
    "name": "ipython",
    "version": 3
   },
   "file_extension": ".py",
   "mimetype": "text/x-python",
   "name": "python",
   "nbconvert_exporter": "python",
   "pygments_lexer": "ipython3",
   "version": "3.11.7"
  }
 },
 "nbformat": 4,
 "nbformat_minor": 5
}
